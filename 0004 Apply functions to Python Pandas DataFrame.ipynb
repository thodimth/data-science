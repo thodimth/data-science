{
 "cells": [
  {
   "cell_type": "markdown",
   "metadata": {},
   "source": [
    "## Setup"
   ]
  },
  {
   "cell_type": "code",
   "execution_count": 2,
   "metadata": {},
   "outputs": [],
   "source": [
    "import pandas as pd\n",
    "import numpy as np\n",
    "from scipy import stats\n",
    "\n",
    "# turn of data table rendering\n",
    "pd.set_option('display.notebook_repr_html', False)\n"
   ]
  },
  {
   "cell_type": "markdown",
   "metadata": {},
   "source": [
    "## Data set"
   ]
  },
  {
   "cell_type": "code",
   "execution_count": 4,
   "metadata": {},
   "outputs": [
    {
     "data": {
      "text/plain": [
       "   Billy Beer  Lucky Lager  Triple Bock\n",
       "0       13884        34565        39987\n",
       "1       23008        83938        35512\n",
       "2       17883        59437        23542\n",
       "3       24435        28843        37729\n",
       "4       49938        48285        36647"
      ]
     },
     "execution_count": 4,
     "metadata": {},
     "output_type": "execute_result"
    }
   ],
   "source": [
    "# Constructing a beer sales DataFrame\n",
    "df = pd.DataFrame({'Billy Beer': [13884, 23008, 17883, 24435, 49938],\n",
    "                   'Lucky Lager': [34565, 83938, 59437, 28843, 48285],\n",
    "                   'Triple Bock': [39987, 35512, 23542, 37729, 36647]})\n",
    "df"
   ]
  },
  {
   "cell_type": "code",
   "execution_count": 7,
   "metadata": {},
   "outputs": [],
   "source": [
    "l=list(np.arange(100))"
   ]
  },
  {
   "cell_type": "code",
   "execution_count": 9,
   "metadata": {},
   "outputs": [
    {
     "name": "stdout",
     "output_type": "stream",
     "text": [
      "[0, 1, 2, 3, 4, 5, 6, 7, 8, 9, 10, 11, 12, 13, 14, 15, 16, 17, 18, 19, 20, 21, 22, 23, 24, 25, 26, 27, 28, 29, 30, 31, 32, 33, 34, 35, 36, 37, 38, 39, 40, 41, 42, 43, 44, 45, 46, 47, 48, 49, 50, 51, 52, 53, 54, 55, 56, 57, 58, 59, 60, 61, 62, 63, 64, 65, 66, 67, 68, 69, 70, 71, 72, 73, 74, 75, 76, 77, 78, 79, 80, 81, 82, 83, 84, 85, 86, 87, 88, 89, 90, 91, 92, 93, 94, 95, 96, 97, 98, 99]\n"
     ]
    }
   ],
   "source": [
    "print(l)"
   ]
  },
  {
   "cell_type": "code",
   "execution_count": 13,
   "metadata": {},
   "outputs": [
    {
     "data": {
      "text/plain": [
       "74.25"
      ]
     },
     "execution_count": 13,
     "metadata": {},
     "output_type": "execute_result"
    }
   ],
   "source": [
    "np.quantile(l,0.75)"
   ]
  },
  {
   "cell_type": "code",
   "execution_count": 5,
   "metadata": {},
   "outputs": [
    {
     "data": {
      "text/plain": [
       "         Billy Beer   Lucky Lager   Triple Bock\n",
       "count      5.000000      5.000000      5.000000\n",
       "mean   25829.600000  51013.600000  34683.400000\n",
       "std    14115.302841  21934.601587   6443.542294\n",
       "min    13884.000000  28843.000000  23542.000000\n",
       "25%    17883.000000  34565.000000  35512.000000\n",
       "50%    23008.000000  48285.000000  36647.000000\n",
       "75%    24435.000000  59437.000000  37729.000000\n",
       "max    49938.000000  83938.000000  39987.000000"
      ]
     },
     "execution_count": 5,
     "metadata": {},
     "output_type": "execute_result"
    }
   ],
   "source": [
    "# Quick insights / descriptive statistics\n",
    "df. describe()"
   ]
  },
  {
   "cell_type": "markdown",
   "metadata": {},
   "source": [
    "## Call functions on a DataFrame"
   ]
  },
  {
   "cell_type": "code",
   "execution_count": 14,
   "metadata": {},
   "outputs": [
    {
     "data": {
      "text/plain": [
       "Billy Beer     25829.6\n",
       "Lucky Lager    51013.6\n",
       "Triple Bock    34683.4\n",
       "dtype: float64"
      ]
     },
     "execution_count": 14,
     "metadata": {},
     "output_type": "execute_result"
    }
   ],
   "source": [
    "# Computing the mean sales for each brand\n",
    "df.mean()"
   ]
  },
  {
   "cell_type": "code",
   "execution_count": 15,
   "metadata": {},
   "outputs": [
    {
     "data": {
      "text/plain": [
       "Billy Beer     24435.0\n",
       "Lucky Lager    59437.0\n",
       "Triple Bock    37729.0\n",
       "Name: 0.75, dtype: float64"
      ]
     },
     "execution_count": 15,
     "metadata": {},
     "output_type": "execute_result"
    }
   ],
   "source": [
    "# Calculate the 75% quartile\n",
    "df.quantile(q=.75)"
   ]
  },
  {
   "cell_type": "code",
   "execution_count": 16,
   "metadata": {},
   "outputs": [
    {
     "data": {
      "text/plain": [
       "Billy Beer     14115.302841\n",
       "Lucky Lager    21934.601587\n",
       "Triple Bock     6443.542294\n",
       "dtype: float64"
      ]
     },
     "execution_count": 16,
     "metadata": {},
     "output_type": "execute_result"
    }
   ],
   "source": [
    "# Calculate the sample standard deviation\n",
    "df.std()"
   ]
  },
  {
   "cell_type": "code",
   "execution_count": 17,
   "metadata": {},
   "outputs": [
    {
     "data": {
      "text/plain": [
       "Billy Beer     12625.110670\n",
       "Lucky Lager    19618.904084\n",
       "Triple Bock     5763.279434\n",
       "dtype: float64"
      ]
     },
     "execution_count": 17,
     "metadata": {},
     "output_type": "execute_result"
    }
   ],
   "source": [
    "# Calculate the population standard deviation\n",
    "df.std(ddof=0)"
   ]
  },
  {
   "cell_type": "markdown",
   "metadata": {},
   "source": [
    "## Using Apply or Lambda expression"
   ]
  },
  {
   "cell_type": "code",
   "execution_count": null,
   "metadata": {},
   "outputs": [],
   "source": []
  },
  {
   "cell_type": "code",
   "execution_count": null,
   "metadata": {},
   "outputs": [],
   "source": []
  },
  {
   "cell_type": "code",
   "execution_count": 18,
   "metadata": {},
   "outputs": [
    {
     "data": {
      "text/plain": [
       "Billy Beer     25829.6\n",
       "Lucky Lager    51013.6\n",
       "Triple Bock    34683.4\n",
       "dtype: float64"
      ]
     },
     "execution_count": 18,
     "metadata": {},
     "output_type": "execute_result"
    }
   ],
   "source": [
    "# The same as calling .mean on the DataFrame\n",
    "df.apply(np.mean)"
   ]
  },
  {
   "cell_type": "code",
   "execution_count": 19,
   "metadata": {},
   "outputs": [
    {
     "data": {
      "text/plain": [
       "Billy Beer     25829.6\n",
       "Lucky Lager    51013.6\n",
       "Triple Bock    34683.4\n",
       "dtype: float64"
      ]
     },
     "execution_count": 19,
     "metadata": {},
     "output_type": "execute_result"
    }
   ],
   "source": [
    "# Same as above\n",
    "np.mean(df)"
   ]
  },
  {
   "cell_type": "code",
   "execution_count": 22,
   "metadata": {},
   "outputs": [
    {
     "data": {
      "text/plain": [
       "[-1.7148160424389376,\n",
       " -0.7148160424389376,\n",
       " 0.2851839575610624,\n",
       " 1.2851839575610624,\n",
       " 2.2851839575610624,\n",
       " 3.2851839575610624,\n",
       " 4.285183957561062,\n",
       " 5.285183957561062,\n",
       " 6.285183957561062,\n",
       " 7.285183957561062,\n",
       " 8.285183957561063,\n",
       " 9.285183957561063,\n",
       " 10.285183957561063,\n",
       " 11.285183957561063,\n",
       " 12.285183957561063,\n",
       " 13.285183957561063,\n",
       " 14.285183957561063,\n",
       " 15.285183957561063,\n",
       " 16.285183957561063,\n",
       " 17.285183957561063,\n",
       " 18.285183957561063,\n",
       " 19.285183957561063,\n",
       " 20.285183957561063,\n",
       " 21.285183957561063,\n",
       " 22.285183957561063,\n",
       " 23.285183957561063,\n",
       " 24.285183957561063,\n",
       " 25.285183957561063,\n",
       " 26.285183957561063,\n",
       " 27.285183957561063,\n",
       " 28.285183957561063,\n",
       " 29.285183957561063,\n",
       " 30.285183957561063,\n",
       " 31.285183957561063,\n",
       " 32.28518395756106,\n",
       " 33.28518395756106,\n",
       " 34.28518395756106,\n",
       " 35.28518395756106,\n",
       " 36.28518395756106,\n",
       " 37.28518395756106,\n",
       " 38.28518395756106,\n",
       " 39.28518395756106,\n",
       " 40.28518395756106,\n",
       " 41.28518395756106,\n",
       " 42.28518395756106,\n",
       " 43.28518395756106,\n",
       " 44.28518395756106,\n",
       " 45.28518395756106,\n",
       " 46.28518395756106,\n",
       " 47.28518395756106,\n",
       " 48.28518395756106,\n",
       " 49.28518395756106,\n",
       " 50.28518395756106,\n",
       " 51.28518395756106,\n",
       " 52.28518395756106,\n",
       " 53.28518395756106,\n",
       " 54.28518395756106,\n",
       " 55.28518395756106,\n",
       " 56.28518395756106,\n",
       " 57.28518395756106,\n",
       " 58.28518395756106,\n",
       " 59.28518395756106,\n",
       " 60.28518395756106,\n",
       " 61.28518395756106,\n",
       " 62.28518395756106,\n",
       " 63.28518395756106,\n",
       " 64.28518395756106,\n",
       " 65.28518395756106,\n",
       " 66.28518395756106,\n",
       " 67.28518395756106,\n",
       " 68.28518395756106,\n",
       " 69.28518395756106,\n",
       " 70.28518395756106,\n",
       " 71.28518395756106,\n",
       " 72.28518395756106,\n",
       " 73.28518395756106,\n",
       " 74.28518395756106,\n",
       " 75.28518395756106,\n",
       " 76.28518395756106,\n",
       " 77.28518395756106,\n",
       " 78.28518395756106,\n",
       " 79.28518395756106,\n",
       " 80.28518395756106,\n",
       " 81.28518395756106,\n",
       " 82.28518395756106,\n",
       " 83.28518395756106,\n",
       " 84.28518395756106,\n",
       " 85.28518395756106,\n",
       " 86.28518395756106,\n",
       " 87.28518395756106,\n",
       " 88.28518395756106,\n",
       " 89.28518395756106,\n",
       " 90.28518395756106,\n",
       " 91.28518395756106,\n",
       " 92.28518395756106,\n",
       " 93.28518395756106,\n",
       " 94.28518395756106,\n",
       " 95.28518395756106,\n",
       " 96.28518395756106,\n",
       " 97.28518395756106]"
      ]
     },
     "execution_count": 22,
     "metadata": {},
     "output_type": "execute_result"
    }
   ],
   "source": [
    "[x-np.mean(l)/np.std(l) for x in l]"
   ]
  },
  {
   "cell_type": "code",
   "execution_count": 28,
   "metadata": {},
   "outputs": [
    {
     "data": {
      "text/plain": [
       "0    13884\n",
       "1    23008\n",
       "2    17883\n",
       "3    24435\n",
       "4    49938\n",
       "Name: Billy Beer, dtype: int64"
      ]
     },
     "execution_count": 28,
     "metadata": {},
     "output_type": "execute_result"
    }
   ],
   "source": [
    "df.iloc[:,0]"
   ]
  },
  {
   "cell_type": "code",
   "execution_count": 30,
   "metadata": {},
   "outputs": [
    {
     "data": {
      "text/plain": [
       "   Billy Beer  Lucky Lager  Triple Bock\n",
       "0   -0.846287    -0.749893     0.823088\n",
       "1   -0.199897     1.501026     0.128594\n",
       "2   -0.562978     0.384023    -1.729080\n",
       "3   -0.098801    -1.010759     0.472659\n",
       "4    1.707962    -0.124397     0.304739"
      ]
     },
     "execution_count": 30,
     "metadata": {},
     "output_type": "execute_result"
    }
   ],
   "source": [
    "# Specify a function to apply to the DataFrame\n",
    "def zscore(series):\n",
    "    result = (series - series.mean()) / series.std()\n",
    "    return result\n",
    "\n",
    "# Call Apply on the highest function\n",
    "df.apply(zscore)"
   ]
  },
  {
   "cell_type": "code",
   "execution_count": 43,
   "metadata": {},
   "outputs": [
    {
     "name": "stdout",
     "output_type": "stream",
     "text": [
      "[0, 1, 2, 3, 4, 5, 6, 7, 8, 9, 10, 11, 12, 13, 14, 15, 16, 17, 18, 19, 20, 21, 22, 23, 24, 25, 26, 27, 28, 29, 30, 31, 32, 33, 34, 35, 36, 37, 38, 39, 40, 41, 42, 43, 44, 45, 46, 47, 48, 49, 50, 51, 52, 53, 54, 55, 56, 57, 58, 59, 60, 61, 62, 63, 64, 65, 66, 67, 68, 69, 70, 71, 72, 73, 74, 75, 76, 77, 78, 79, 80, 81, 82, 83, 84, 85, 86, 87, 88, 89, 90, 91, 92, 93, 94, 95, 96, 97, 98, 99]\n"
     ]
    }
   ],
   "source": [
    "print(l)"
   ]
  },
  {
   "cell_type": "code",
   "execution_count": null,
   "metadata": {},
   "outputs": [],
   "source": [
    "# filter func : used to filter out elements that satisfy some condition from a list/array"
   ]
  },
  {
   "cell_type": "code",
   "execution_count": 49,
   "metadata": {},
   "outputs": [
    {
     "name": "stdout",
     "output_type": "stream",
     "text": [
      "[1, 3, 5, 7, 9, 11, 13, 15, 17, 19, 21, 23, 25, 27, 29, 31, 33, 35, 37, 39, 41, 43, 45, 47, 49, 51, 53, 55, 57, 59, 61, 63, 65, 67, 69, 71, 73, 75, 77, 79, 81, 83, 85, 87, 89, 91, 93, 95, 97, 99]\n"
     ]
    }
   ],
   "source": [
    "print(list(filter(lambda x : x %2!=0,l)))"
   ]
  },
  {
   "cell_type": "code",
   "execution_count": 50,
   "metadata": {},
   "outputs": [],
   "source": [
    "# map : used to apply a lambda func on a list"
   ]
  },
  {
   "cell_type": "code",
   "execution_count": 54,
   "metadata": {},
   "outputs": [],
   "source": [
    "def add_5(x):\n",
    "    return x+5"
   ]
  },
  {
   "cell_type": "code",
   "execution_count": 65,
   "metadata": {},
   "outputs": [
    {
     "data": {
      "text/plain": [
       "Index(['Billy Beer', 'Lucky Lager', 'Triple Bock'], dtype='object')"
      ]
     },
     "execution_count": 65,
     "metadata": {},
     "output_type": "execute_result"
    }
   ],
   "source": [
    "df.columns"
   ]
  },
  {
   "cell_type": "code",
   "execution_count": 40,
   "metadata": {},
   "outputs": [],
   "source": [
    "a=lambda x : x*x"
   ]
  },
  {
   "cell_type": "code",
   "execution_count": 41,
   "metadata": {},
   "outputs": [
    {
     "data": {
      "text/plain": [
       "   Billy Beer  Lucky Lager  Triple Bock\n",
       "0   192765456   1194739225   1598960169\n",
       "1   529368064   7045587844   1261102144\n",
       "2   319801689   3532756969    554225764\n",
       "3   597069225    831918649   1423477441\n",
       "4  2493803844   2331441225   1343002609"
      ]
     },
     "execution_count": 41,
     "metadata": {},
     "output_type": "execute_result"
    }
   ],
   "source": [
    "df.apply(a)"
   ]
  },
  {
   "cell_type": "code",
   "execution_count": 33,
   "metadata": {},
   "outputs": [],
   "source": [
    "def func1(x):\n",
    "    return x*x"
   ]
  },
  {
   "cell_type": "code",
   "execution_count": 60,
   "metadata": {},
   "outputs": [
    {
     "data": {
      "text/plain": [
       "   Billy Beer  Lucky Lager\n",
       "0   192765456   1194739225\n",
       "1   529368064   7045587844\n",
       "2   319801689   3532756969\n",
       "3   597069225    831918649\n",
       "4  2493803844   2331441225"
      ]
     },
     "execution_count": 60,
     "metadata": {},
     "output_type": "execute_result"
    }
   ],
   "source": [
    "df.iloc[:,0:2].apply(func1)"
   ]
  },
  {
   "cell_type": "code",
   "execution_count": null,
   "metadata": {},
   "outputs": [],
   "source": []
  },
  {
   "cell_type": "code",
   "execution_count": 11,
   "metadata": {},
   "outputs": [
    {
     "data": {
      "text/plain": [
       "array([[-0.84628719, -0.74989281,  0.82308764],\n",
       "       [-0.19989653,  1.50102567,  0.12859386],\n",
       "       [-0.56297765,  0.38402339, -1.72907998],\n",
       "       [-0.09880057, -1.01075918,  0.47265927],\n",
       "       [ 1.70796194, -0.12439706,  0.30473921]])"
      ]
     },
     "execution_count": 11,
     "metadata": {},
     "output_type": "execute_result"
    }
   ],
   "source": [
    "# The same result values as using scipy stats zscore with\n",
    "# a dynamic degrees of freedom of 1 \n",
    "stats.zscore(df, ddof=1)"
   ]
  },
  {
   "cell_type": "code",
   "execution_count": 70,
   "metadata": {},
   "outputs": [
    {
     "data": {
      "text/plain": [
       "Billy Beer      6552.0\n",
       "Lucky Lager    24872.0\n",
       "Triple Bock     2217.0\n",
       "dtype: float64"
      ]
     },
     "execution_count": 70,
     "metadata": {},
     "output_type": "execute_result"
    }
   ],
   "source": [
    "# Calculate inter quartile range with a lambda expression\n",
    "df.apply(lambda x: x.quantile(q=.75) - x.quantile(q=.25))"
   ]
  },
  {
   "cell_type": "code",
   "execution_count": null,
   "metadata": {},
   "outputs": [],
   "source": []
  }
 ],
 "metadata": {
  "kernelspec": {
   "display_name": "Python 3",
   "language": "python",
   "name": "python3"
  },
  "language_info": {
   "codemirror_mode": {
    "name": "ipython",
    "version": 3
   },
   "file_extension": ".py",
   "mimetype": "text/x-python",
   "name": "python",
   "nbconvert_exporter": "python",
   "pygments_lexer": "ipython3",
   "version": "3.7.3"
  }
 },
 "nbformat": 4,
 "nbformat_minor": 1
}
