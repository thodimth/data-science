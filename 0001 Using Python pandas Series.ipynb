{
 "worksheets": [
  {
   "cells": [
    {
     "cell_type": "markdown",
     "metadata": {},
     "source": [
      "### Setup"
     ]
    },
    {
     "cell_type": "code",
     "metadata": {},
     "outputs": [],
     "input": [
      "import pandas as pd\n",
      "import numpy as np     # optional - used for some examples"
     ],
     "language": "python",
     "prompt_number": 1
    },
    {
     "cell_type": "markdown",
     "metadata": {},
     "source": [
      "### Simple Series Object"
     ]
    },
    {
     "cell_type": "code",
     "metadata": {},
     "outputs": [
      {
       "output_type": "pyout",
       "prompt_number": 2,
       "text": [
        "pandas.core.series.Series"
       ],
       "metadata": {}
      }
     ],
     "input": [
      "# Data as a list of integers.\n",
      "data = [101, 4, 23, 8, 27, -3]\n",
      "s1 = pd.Series(data)\n",
      "type(s1)"
     ],
     "language": "python",
     "prompt_number": 2
    },
    {
     "cell_type": "code",
     "metadata": {},
     "outputs": [
      {
       "output_type": "pyout",
       "prompt_number": 3,
       "text": [
        "0    101\n",
        "1      4\n",
        "2     23\n",
        "3      8\n",
        "4     27\n",
        "5     -3\n",
        "dtype: int64"
       ],
       "metadata": {}
      }
     ],
     "input": [
      "# The index is a series of integers starting at zero, by default.\n",
      "s1"
     ],
     "language": "python",
     "prompt_number": 3
    },
    {
     "cell_type": "code",
     "metadata": {},
     "outputs": [
      {
       "output_type": "pyout",
       "prompt_number": 4,
       "text": [
        "0    101.0\n",
        "1      4.3\n",
        "2      5.0\n",
        "dtype: float64"
       ],
       "metadata": {}
      }
     ],
     "input": [
      "# If we pass values of different datatypes, pandas will upgrade the datatype to the nearest posible type.\n",
      "data = [101, 4.3, 5]\n",
      "s1b = pd.Series(data)\n",
      "s1b"
     ],
     "language": "python",
     "prompt_number": 4
    },
    {
     "cell_type": "markdown",
     "metadata": {},
     "source": [
      "### Value retrieval / setting"
     ]
    },
    {
     "cell_type": "code",
     "metadata": {},
     "outputs": [
      {
       "output_type": "pyout",
       "prompt_number": 5,
       "text": [
        "array([101,   4,  23,   8,  27,  -3], dtype=int64)"
       ],
       "metadata": {}
      }
     ],
     "input": [
      "# The values of the Series.\n",
      "s1.values"
     ],
     "language": "python",
     "prompt_number": 5
    },
    {
     "cell_type": "code",
     "metadata": {},
     "outputs": [
      {
       "output_type": "pyout",
       "prompt_number": 6,
       "text": [
        "Int64Index([0, 1, 2, 3, 4, 5], dtype='int64')"
       ],
       "metadata": {}
      }
     ],
     "input": [
      "# The indices of the numpy.ndarray.\n",
      "s1.index"
     ],
     "language": "python",
     "prompt_number": 6
    },
    {
     "cell_type": "code",
     "metadata": {},
     "outputs": [
      {
       "output_type": "pyout",
       "prompt_number": 7,
       "text": [
        "4"
       ],
       "metadata": {}
      }
     ],
     "input": [
      "# Index based value retrieval.\n",
      "s1[1]"
     ],
     "language": "python",
     "prompt_number": 7
    },
    {
     "cell_type": "code",
     "metadata": {},
     "outputs": [
      {
       "output_type": "pyout",
       "prompt_number": 8,
       "text": [
        "0    101\n",
        "1      4\n",
        "2    404\n",
        "3      8\n",
        "4     27\n",
        "5     -3\n",
        "dtype: int64"
       ],
       "metadata": {}
      }
     ],
     "input": [
      "# Set value based on index\n",
      "s1[2] = 404\n",
      "s1"
     ],
     "language": "python",
     "prompt_number": 8
    },
    {
     "cell_type": "markdown",
     "metadata": {},
     "source": [
      "### Perform operations"
     ]
    },
    {
     "cell_type": "code",
     "metadata": {},
     "outputs": [
      {
       "output_type": "pyout",
       "prompt_number": 9,
       "text": [
        "90.166666666666671"
       ],
       "metadata": {}
      }
     ],
     "input": [
      "# Calculating the arithmetic average.\n",
      "s1.mean()"
     ],
     "language": "python",
     "prompt_number": 9
    },
    {
     "cell_type": "code",
     "metadata": {},
     "outputs": [
      {
       "output_type": "pyout",
       "prompt_number": 10,
       "text": [
        "0    101\n",
        "1    105\n",
        "2    509\n",
        "3    517\n",
        "4    544\n",
        "5    541\n",
        "dtype: int64"
       ],
       "metadata": {}
      }
     ],
     "input": [
      "# Calculate the cumulative sum.\n",
      "s1.cumsum()"
     ],
     "language": "python",
     "prompt_number": 10
    },
    {
     "cell_type": "code",
     "metadata": {},
     "outputs": [
      {
       "output_type": "pyout",
       "prompt_number": 11,
       "text": [
        "0     303\n",
        "1      12\n",
        "2    1212\n",
        "3      24\n",
        "4      81\n",
        "5      -9\n",
        "dtype: int64"
       ],
       "metadata": {}
      }
     ],
     "input": [
      "# Vector multiplication.\n",
      "s1 * 3"
     ],
     "language": "python",
     "prompt_number": 11
    },
    {
     "cell_type": "code",
     "metadata": {},
     "outputs": [
      {
       "output_type": "pyout",
       "prompt_number": 12,
       "text": [
        "0    4.615121\n",
        "1    1.386294\n",
        "2    6.001415\n",
        "3    2.079442\n",
        "4    3.295837\n",
        "5         NaN\n",
        "dtype: float64"
       ],
       "metadata": {}
      }
     ],
     "input": [
      "# Logarithm\n",
      "np.log(s1)"
     ],
     "language": "python",
     "prompt_number": 12
    },
    {
     "cell_type": "markdown",
     "metadata": {},
     "source": [
      "### Custom indices / labels"
     ]
    },
    {
     "cell_type": "code",
     "metadata": {},
     "outputs": [
      {
       "output_type": "pyout",
       "prompt_number": 13,
       "text": [
        "A    0.229053\n",
        "B    0.576183\n",
        "C    0.477113\n",
        "D   -2.488677\n",
        "E   -0.959640\n",
        "F    0.670802\n",
        "dtype: float64"
       ],
       "metadata": {}
      }
     ],
     "input": [
      "# Create custom labels for random values.\n",
      "index = ['A', 'B', 'C', 'D', 'E', 'F']\n",
      "data = np.random.randn(6)\n",
      "data\n",
      "s2 = pd.Series(data, index)\n",
      "s2"
     ],
     "language": "python",
     "prompt_number": 13
    },
    {
     "cell_type": "code",
     "metadata": {},
     "outputs": [
      {
       "output_type": "pyout",
       "prompt_number": 14,
       "text": [
        "Stock\n",
        "A        0.229053\n",
        "B        0.576183\n",
        "C        0.477113\n",
        "D       -2.488677\n",
        "E       -0.959640\n",
        "F        0.670802\n",
        "Name: Price, dtype: float64"
       ],
       "metadata": {}
      }
     ],
     "input": [
      "# Meaningful labels to the values and/or the index.\n",
      "s2.name = 'Price'\n",
      "s2.index.name = 'Stock'\n",
      "s2"
     ],
     "language": "python",
     "prompt_number": 14
    },
    {
     "cell_type": "markdown",
     "metadata": {},
     "source": [
      "### Series from a dictionary"
     ]
    },
    {
     "cell_type": "code",
     "metadata": {},
     "outputs": [
      {
       "output_type": "pyout",
       "prompt_number": 15,
       "text": [
        "five     5\n",
        "four     4\n",
        "one      1\n",
        "three    3\n",
        "two      2\n",
        "dtype: int64"
       ],
       "metadata": {}
      }
     ],
     "input": [
      "# Series from dictionary is (of course) not ordered. Keys are used for the index.\n",
      "d = {'one': 1, 'two': 2, 'three': 3, 'four': 4, 'five': 5}\n",
      "s4 = pd.Series(d)\n",
      "s4"
     ],
     "language": "python",
     "prompt_number": 15
    },
    {
     "cell_type": "markdown",
     "metadata": {},
     "source": [
      "### Slicing"
     ]
    },
    {
     "cell_type": "code",
     "metadata": {},
     "outputs": [
      {
       "output_type": "pyout",
       "prompt_number": 16,
       "text": [
        "four    4\n",
        "one     1\n",
        "dtype: int64"
       ],
       "metadata": {}
      }
     ],
     "input": [
      "# Slicing based on index\n",
      "s4[1:3]"
     ],
     "language": "python",
     "prompt_number": 16
    },
    {
     "cell_type": "code",
     "metadata": {},
     "outputs": [
      {
       "output_type": "pyout",
       "prompt_number": 17,
       "text": [
        "four     4\n",
        "one      1\n",
        "three    3\n",
        "dtype: int64"
       ],
       "metadata": {}
      }
     ],
     "input": [
      "# Slicing based on labels\n",
      "s4['four':'three']"
     ],
     "language": "python",
     "prompt_number": 17
    },
    {
     "cell_type": "markdown",
     "metadata": {},
     "source": [
      "### Enumeration"
     ]
    },
    {
     "cell_type": "code",
     "metadata": {},
     "outputs": [
      {
       "output_type": "stream",
       "stream": "stdout",
       "text": [
        "0 5\n",
        "1 4\n",
        "2 1\n",
        "3 3\n",
        "4 2\n"
       ]
      }
     ],
     "input": [
      "# looping over collection\n",
      "for i, v in enumerate(s4):\n",
      "    print i, v"
     ],
     "language": "python",
     "prompt_number": 18
    },
    {
     "cell_type": "code",
     "metadata": {},
     "outputs": [
      {
       "output_type": "pyout",
       "prompt_number": 19,
       "text": [
        "[25, 16, 1, 9, 4]"
       ],
       "metadata": {}
      }
     ],
     "input": [
      "# list comprehension\n",
      "s4b = [x**2 for x in s4]\n",
      "s4b"
     ],
     "language": "python",
     "prompt_number": 19
    },
    {
     "cell_type": "markdown",
     "metadata": {},
     "source": [
      "### Dict-like behaviour"
     ]
    },
    {
     "cell_type": "code",
     "metadata": {},
     "outputs": [
      {
       "output_type": "pyout",
       "prompt_number": 20,
       "text": [
        "True"
       ],
       "metadata": {}
      }
     ],
     "input": [
      "# is the key in the series\n",
      "'four' in s4"
     ],
     "language": "python",
     "prompt_number": 20
    },
    {
     "cell_type": "code",
     "metadata": {},
     "outputs": [
      {
       "output_type": "pyout",
       "prompt_number": 21,
       "text": [
        "4"
       ],
       "metadata": {}
      }
     ],
     "input": [
      "# custom index retrieval\n",
      "s4['four']"
     ],
     "language": "python",
     "prompt_number": 21
    },
    {
     "cell_type": "code",
     "metadata": {},
     "outputs": [
      {
       "output_type": "pyout",
       "prompt_number": 22,
       "text": [
        "999"
       ],
       "metadata": {}
      }
     ],
     "input": [
      "# custom index assignament\n",
      "s4['four'] = 999\n",
      "s4['four']"
     ],
     "language": "python",
     "prompt_number": 22
    },
    {
     "cell_type": "code",
     "metadata": {},
     "outputs": [
      {
       "output_type": "pyout",
       "prompt_number": 23,
       "text": [
        "{'five': 5, 'four': 999, 'one': 1, 'three': 3, 'two': 2}"
       ],
       "metadata": {}
      }
     ],
     "input": [
      "# Convert Series to a dictionary (looses order).\n",
      "d4 = s4.to_dict()\n",
      "d4"
     ],
     "language": "python",
     "prompt_number": 23
    },
    {
     "cell_type": "code",
     "metadata": {},
     "outputs": [
      {
       "output_type": "pyout",
       "prompt_number": 24,
       "text": [
        "one       1\n",
        "two       2\n",
        "three     3\n",
        "six     NaN\n",
        "seven   NaN\n",
        "dtype: float64"
       ],
       "metadata": {}
      }
     ],
     "input": [
      "# ... and back again (only when found a index mapping - type float!)\n",
      "s4b = pd.Series(d4, index=['one', 'two', 'three', 'six', 'seven'])\n",
      "s4b"
     ],
     "language": "python",
     "prompt_number": 24
    },
    {
     "cell_type": "markdown",
     "metadata": {},
     "source": [
      "### Munging"
     ]
    },
    {
     "cell_type": "code",
     "metadata": {},
     "outputs": [
      {
       "output_type": "pyout",
       "prompt_number": 25,
       "text": [
        "one      False\n",
        "two      False\n",
        "three    False\n",
        "six       True\n",
        "seven     True\n",
        "dtype: bool"
       ],
       "metadata": {}
      }
     ],
     "input": [
      "# Boolean query for NaN's\n",
      "s4nan = s4b.isnull()\n",
      "s4nan"
     ],
     "language": "python",
     "prompt_number": 25
    },
    {
     "cell_type": "code",
     "metadata": {},
     "outputs": [
      {
       "output_type": "pyout",
       "prompt_number": 26,
       "text": [
        "six     NaN\n",
        "seven   NaN\n",
        "dtype: float64"
       ],
       "metadata": {}
      }
     ],
     "input": [
      "# Extract the NaN's from the Series\n",
      "s4b[s4nan]"
     ],
     "language": "python",
     "prompt_number": 26
    },
    {
     "cell_type": "code",
     "metadata": {},
     "outputs": [
      {
       "output_type": "pyout",
       "prompt_number": 27,
       "text": [
        "one      1\n",
        "two      2\n",
        "three    3\n",
        "dtype: float64"
       ],
       "metadata": {}
      }
     ],
     "input": [
      "# Drop the NaN's\n",
      "s4b = s4b.dropna()\n",
      "s4b"
     ],
     "language": "python",
     "prompt_number": 27
    }
   ]
  }
 ],
 "cells": [],
 "metadata": {
  "celltoolbar": "Raw Cell Format",
  "name": "",
  "signature": "sha256:c0fb255f27aa64db7720a3af15f3145793911caf879d7776308e2ab12684120a"
 },
 "nbformat": 3,
 "nbformat_minor": 0
}