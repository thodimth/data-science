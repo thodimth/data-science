{
 "cells": [
  {
   "cell_type": "code",
   "execution_count": 25,
   "metadata": {},
   "outputs": [
    {
     "data": {
      "text/plain": [
       "'3.7.3 (default, Apr 24 2019, 15:29:51) [MSC v.1915 64 bit (AMD64)]'"
      ]
     },
     "execution_count": 25,
     "metadata": {},
     "output_type": "execute_result"
    }
   ],
   "source": [
    "%matplotlib inline\n",
    "import sys\n",
    "import string\n",
    "import numpy as np\n",
    "import pandas as pd\n",
    "import matplotlib.pyplot as plt\n",
    "import seaborn as sns\n",
    "\n",
    "from sklearn import feature_extraction\n",
    "\n",
    "# turn of data table rendering\n",
    "sns.set_palette(['#00A99D', '#F5CA0C', '#B6129F', '#76620C', '#095C57'])\n",
    "sys.version"
   ]
  },
  {
   "cell_type": "markdown",
   "metadata": {},
   "source": [
    "## Example\n",
    "We have a dataframe with four columns with only the value column containing continuous data. To use this data for a machine learning task, we need to extract the categorical data into binary one-hot columns. This way, each categorical value gets its own column with either the value 1 or 0 to denote the state of the feature for a particular row."
   ]
  },
  {
   "cell_type": "code",
   "execution_count": 26,
   "metadata": {},
   "outputs": [
    {
     "data": {
      "text/html": [
       "<div>\n",
       "<style scoped>\n",
       "    .dataframe tbody tr th:only-of-type {\n",
       "        vertical-align: middle;\n",
       "    }\n",
       "\n",
       "    .dataframe tbody tr th {\n",
       "        vertical-align: top;\n",
       "    }\n",
       "\n",
       "    .dataframe thead th {\n",
       "        text-align: right;\n",
       "    }\n",
       "</style>\n",
       "<table border=\"1\" class=\"dataframe\">\n",
       "  <thead>\n",
       "    <tr style=\"text-align: right;\">\n",
       "      <th></th>\n",
       "      <th>Gender</th>\n",
       "      <th>City</th>\n",
       "      <th>Attended</th>\n",
       "      <th>Value</th>\n",
       "    </tr>\n",
       "  </thead>\n",
       "  <tbody>\n",
       "    <tr>\n",
       "      <th>0</th>\n",
       "      <td>girl</td>\n",
       "      <td>New York</td>\n",
       "      <td>Yes</td>\n",
       "      <td>0.991472</td>\n",
       "    </tr>\n",
       "    <tr>\n",
       "      <th>1</th>\n",
       "      <td>boy</td>\n",
       "      <td>London</td>\n",
       "      <td>No</td>\n",
       "      <td>0.980504</td>\n",
       "    </tr>\n",
       "    <tr>\n",
       "      <th>2</th>\n",
       "      <td>boy</td>\n",
       "      <td>Amsterdam</td>\n",
       "      <td>Yes</td>\n",
       "      <td>0.969145</td>\n",
       "    </tr>\n",
       "    <tr>\n",
       "      <th>3</th>\n",
       "      <td>boy</td>\n",
       "      <td>Amsterdam</td>\n",
       "      <td>No</td>\n",
       "      <td>0.968502</td>\n",
       "    </tr>\n",
       "    <tr>\n",
       "      <th>4</th>\n",
       "      <td>man</td>\n",
       "      <td>London</td>\n",
       "      <td>Yes</td>\n",
       "      <td>0.938684</td>\n",
       "    </tr>\n",
       "  </tbody>\n",
       "</table>\n",
       "</div>"
      ],
      "text/plain": [
       "  Gender       City Attended     Value\n",
       "0   girl   New York      Yes  0.991472\n",
       "1    boy     London       No  0.980504\n",
       "2    boy  Amsterdam      Yes  0.969145\n",
       "3    boy  Amsterdam       No  0.968502\n",
       "4    man     London      Yes  0.938684"
      ]
     },
     "execution_count": 26,
     "metadata": {},
     "output_type": "execute_result"
    }
   ],
   "source": [
    "# Load the original dataframe from csv\n",
    "df = pd.read_csv('data/feature-engineering.csv')\n",
    "df.head()"
   ]
  },
  {
   "cell_type": "code",
   "execution_count": 28,
   "metadata": {},
   "outputs": [],
   "source": [
    "from sklearn.preprocessing import OneHotEncoder\n",
    "k = OneHotEncoder()"
   ]
  },
  {
   "cell_type": "code",
   "execution_count": 30,
   "metadata": {},
   "outputs": [],
   "source": [
    "A=k.fit_transform(np.array(df['City']).reshape(-1,1))"
   ]
  },
  {
   "cell_type": "code",
   "execution_count": 34,
   "metadata": {},
   "outputs": [
    {
     "data": {
      "text/plain": [
       "'New York'"
      ]
     },
     "execution_count": 34,
     "metadata": {},
     "output_type": "execute_result"
    }
   ],
   "source": [
    "df['City'][0]"
   ]
  },
  {
   "cell_type": "code",
   "execution_count": 35,
   "metadata": {},
   "outputs": [
    {
     "data": {
      "text/plain": [
       "array([0., 0., 1.])"
      ]
     },
     "execution_count": 35,
     "metadata": {},
     "output_type": "execute_result"
    }
   ],
   "source": [
    "A.toarray()[0]"
   ]
  },
  {
   "cell_type": "markdown",
   "metadata": {},
   "source": [
    "## Binary One-Hot Encoding using DictVectorizer and Pandas\n",
    "A few simple steps let us extracts the categorical data from the dataframe and replace them with binary one-hot encoded colums. For this we use DictVectorizer from Scikit Learn's [Feature Extraction](http://scikit-learn.org/stable/modules/generated/sklearn.feature_extraction.DictVectorizer.html) library."
   ]
  },
  {
   "cell_type": "code",
   "execution_count": 3,
   "metadata": {},
   "outputs": [
    {
     "data": {
      "text/plain": [
       "[{'Gender': 'girl', 'City': 'New York', 'Attended': 'Yes'},\n",
       " {'Gender': 'boy', 'City': 'London', 'Attended': 'No'},\n",
       " {'Gender': 'boy', 'City': 'Amsterdam', 'Attended': 'Yes'},\n",
       " {'Gender': 'boy', 'City': 'Amsterdam', 'Attended': 'No'},\n",
       " {'Gender': 'man', 'City': 'London', 'Attended': 'Yes'}]"
      ]
     },
     "execution_count": 3,
     "metadata": {},
     "output_type": "execute_result"
    }
   ],
   "source": [
    "# Create a dictionary with the categorical data points for each row\n",
    "cat_columns = ['Gender', 'City', 'Attended']\n",
    "cat_dict = df[cat_columns].to_dict(outtype='records')\n",
    "cat_dict[:5]"
   ]
  },
  {
   "cell_type": "code",
   "execution_count": 4,
   "metadata": {},
   "outputs": [
    {
     "data": {
      "text/plain": [
       "array([[ 0.,  1.,  0.,  0.,  1.,  0.,  1.,  0.,  0.],\n",
       "       [ 1.,  0.,  0.,  1.,  0.,  1.,  0.,  0.,  0.],\n",
       "       [ 0.,  1.,  1.,  0.,  0.,  1.,  0.,  0.,  0.],\n",
       "       [ 1.,  0.,  1.,  0.,  0.,  1.,  0.,  0.,  0.],\n",
       "       [ 0.,  1.,  0.,  1.,  0.,  0.,  0.,  1.,  0.]])"
      ]
     },
     "execution_count": 4,
     "metadata": {},
     "output_type": "execute_result"
    }
   ],
   "source": [
    "# Construct a DictVectorizer to transform our dictionary to\n",
    "# a binary on-hot encoded array for each row\n",
    "vec = feature_extraction.DictVectorizer()\n",
    "cat_vector = vec.fit_transform(cat_dict).toarray()\n",
    "cat_vector[:5]"
   ]
  },
  {
   "cell_type": "code",
   "execution_count": 5,
   "metadata": {},
   "outputs": [
    {
     "data": {
      "text/plain": [
       "['Attended=No',\n",
       " 'Attended=Yes',\n",
       " 'City=Amsterdam',\n",
       " 'City=London',\n",
       " 'City=New York',\n",
       " 'Gender=boy',\n",
       " 'Gender=girl',\n",
       " 'Gender=man',\n",
       " 'Gender=woman']"
      ]
     },
     "execution_count": 5,
     "metadata": {},
     "output_type": "execute_result"
    }
   ],
   "source": [
    "# Construct a separate dataframe with the one-hot encoded data\n",
    "# and set the column names by calling get_feature_names\n",
    "df_vector = pd.DataFrame(cat_vector)\n",
    "vector_columns = vec.get_feature_names()\n",
    "vector_columns"
   ]
  },
  {
   "cell_type": "code",
   "execution_count": 6,
   "metadata": {},
   "outputs": [
    {
     "data": {
      "text/plain": [
       "      Value  Attended=No  Attended=Yes  City=Amsterdam  City=London  \\\n",
       "0  0.991472            0             1               0            0   \n",
       "1  0.980504            1             0               0            1   \n",
       "2  0.969145            0             1               1            0   \n",
       "3  0.968502            1             0               1            0   \n",
       "4  0.938684            0             1               0            1   \n",
       "\n",
       "   City=New York  Gender=boy  Gender=girl  Gender=man  Gender=woman  \n",
       "0              1           0            1           0             0  \n",
       "1              0           1            0           0             0  \n",
       "2              0           1            0           0             0  \n",
       "3              0           1            0           0             0  \n",
       "4              0           0            0           1             0  "
      ]
     },
     "execution_count": 6,
     "metadata": {},
     "output_type": "execute_result"
    }
   ],
   "source": [
    "# Drop the categorical columns and join the new one-hot \n",
    "# dataframe with the original dataframe\n",
    "df_vector.columns = vector_columns\n",
    "df_vector.index = df.index\n",
    "\n",
    "df = df.drop(cat_columns, axis=1)\n",
    "df = df.join(df_vector)\n",
    "df.head()"
   ]
  },
  {
   "cell_type": "code",
   "execution_count": 7,
   "metadata": {},
   "outputs": [
    {
     "data": {
      "text/plain": [
       "            Value  Attended=No  Attended=Yes  City=Amsterdam  City=London  \\\n",
       "count  100.000000       100.00        100.00      100.000000   100.000000   \n",
       "mean     0.485863         0.55          0.45        0.400000     0.320000   \n",
       "std      0.307723         0.50          0.50        0.492366     0.468826   \n",
       "min      0.016199         0.00          0.00        0.000000     0.000000   \n",
       "25%      0.213648         0.00          0.00        0.000000     0.000000   \n",
       "50%      0.454238         1.00          0.00        0.000000     0.000000   \n",
       "75%      0.752019         1.00          1.00        1.000000     1.000000   \n",
       "max      0.991472         1.00          1.00        1.000000     1.000000   \n",
       "\n",
       "       City=New York  Gender=boy  Gender=girl  Gender=man  Gender=woman  \n",
       "count     100.000000  100.000000   100.000000  100.000000    100.000000  \n",
       "mean        0.280000    0.250000     0.250000    0.250000      0.250000  \n",
       "std         0.451261    0.435194     0.435194    0.435194      0.435194  \n",
       "min         0.000000    0.000000     0.000000    0.000000      0.000000  \n",
       "25%         0.000000    0.000000     0.000000    0.000000      0.000000  \n",
       "50%         0.000000    0.000000     0.000000    0.000000      0.000000  \n",
       "75%         1.000000    0.250000     0.250000    0.250000      0.250000  \n",
       "max         1.000000    1.000000     1.000000    1.000000      1.000000  "
      ]
     },
     "execution_count": 7,
     "metadata": {},
     "output_type": "execute_result"
    }
   ],
   "source": [
    "df.describe()"
   ]
  }
 ],
 "metadata": {
  "kernelspec": {
   "display_name": "Python 3",
   "language": "python",
   "name": "python3"
  },
  "language_info": {
   "codemirror_mode": {
    "name": "ipython",
    "version": 3
   },
   "file_extension": ".py",
   "mimetype": "text/x-python",
   "name": "python",
   "nbconvert_exporter": "python",
   "pygments_lexer": "ipython3",
   "version": "3.7.3"
  }
 },
 "nbformat": 4,
 "nbformat_minor": 1
}
