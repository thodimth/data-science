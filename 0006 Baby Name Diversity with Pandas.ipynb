{
 "metadata": {
  "name": "",
  "signature": "sha256:f1de863fa96a9758afec8443f84769d6a47d7506968a31474a8696b9f9338b66"
 },
 "nbformat": 3,
 "nbformat_minor": 0,
 "worksheets": [
  {
   "cells": [
    {
     "cell_type": "code",
     "collapsed": false,
     "input": [
      "%matplotlib inline\n",
      "import matplotlib.pyplot as plt\n",
      "import numpy as np\n",
      "import pandas as pd\n",
      "\n",
      "# turn of data table rendering\n",
      "pd.set_option('display.notebook_repr_html', False)\n",
      "plt.style.use('ggplot')\n",
      "pd.__version__"
     ],
     "language": "python",
     "metadata": {},
     "outputs": [
      {
       "metadata": {},
       "output_type": "pyout",
       "prompt_number": 1,
       "text": [
        "'0.15.2'"
       ]
      }
     ],
     "prompt_number": 1
    },
    {
     "cell_type": "markdown",
     "metadata": {},
     "source": [
      "## Data"
     ]
    },
    {
     "cell_type": "code",
     "collapsed": false,
     "input": [
      "# The data set contains the top 1000 baby names in the US\n",
      "# for each year from 1880 until 2008\n",
      "names_df = pd.read_csv('data/baby-names2.csv')\n",
      "names_df.head()"
     ],
     "language": "python",
     "metadata": {},
     "outputs": [
      {
       "metadata": {},
       "output_type": "pyout",
       "prompt_number": 2,
       "text": [
        "   year     name      prop  sex soundex\n",
        "0  1880     John  0.081541  boy    J500\n",
        "1  1880  William  0.080511  boy    W450\n",
        "2  1880    James  0.050057  boy    J520\n",
        "3  1880  Charles  0.045167  boy    C642\n",
        "4  1880   George  0.043292  boy    G620"
       ]
      }
     ],
     "prompt_number": 2
    },
    {
     "cell_type": "markdown",
     "metadata": {},
     "source": [
      "## Explore the data"
     ]
    },
    {
     "cell_type": "code",
     "collapsed": false,
     "input": [
      "# Get popular names for 1969\n",
      "names_df[names_df.year == 1969].tail()"
     ],
     "language": "python",
     "metadata": {},
     "outputs": [
      {
       "metadata": {},
       "output_type": "pyout",
       "prompt_number": 3,
       "text": [
        "        year       name      prop   sex soundex\n",
        "218995  1969   Josefina  0.000067  girl    J215\n",
        "218996  1969   Marisela  0.000067  girl    M624\n",
        "218997  1969     Sallie  0.000067  girl    S400\n",
        "218998  1969      Suzan  0.000067  girl    S250\n",
        "218999  1969  Francisca  0.000066  girl    F652"
       ]
      }
     ],
     "prompt_number": 3
    },
    {
     "cell_type": "code",
     "collapsed": false,
     "input": [
      "# Separate the boys from the girls\n",
      "boys_df = names_df[names_df.sex == 'boy']\n",
      "girls_df = names_df[names_df.sex == 'girl']\n",
      "girls_df.head()"
     ],
     "language": "python",
     "metadata": {},
     "outputs": [
      {
       "metadata": {},
       "output_type": "pyout",
       "prompt_number": 4,
       "text": [
        "        year       name      prop   sex soundex\n",
        "129000  1880       Mary  0.072381  girl    M600\n",
        "129001  1880       Anna  0.026678  girl    A500\n",
        "129002  1880       Emma  0.020521  girl    E500\n",
        "129003  1880  Elizabeth  0.019865  girl    E421\n",
        "129004  1880     Minnie  0.017888  girl    M500"
       ]
      }
     ],
     "prompt_number": 4
    },
    {
     "cell_type": "code",
     "collapsed": false,
     "input": [
      "# Get the number of boy baby name rows per year (showing first 5) \n",
      "boys_df.groupby('year').size().head()"
     ],
     "language": "python",
     "metadata": {},
     "outputs": [
      {
       "metadata": {},
       "output_type": "pyout",
       "prompt_number": 5,
       "text": [
        "year\n",
        "1880    1000\n",
        "1881    1000\n",
        "1882    1000\n",
        "1883    1000\n",
        "1884    1000\n",
        "dtype: int64"
       ]
      }
     ],
     "prompt_number": 5
    },
    {
     "cell_type": "code",
     "collapsed": false,
     "input": [
      "# Get the hierarchical index of baby name rows per year \n",
      "# grouped by gender for the year 1969\n",
      "names_df.groupby(['year', 'sex']).size().ix[1969]"
     ],
     "language": "python",
     "metadata": {},
     "outputs": [
      {
       "metadata": {},
       "output_type": "pyout",
       "prompt_number": 6,
       "text": [
        "sex\n",
        "boy     1000\n",
        "girl    1000\n",
        "dtype: int64"
       ]
      }
     ],
     "prompt_number": 6
    },
    {
     "cell_type": "code",
     "collapsed": false,
     "input": [
      "# Get the most popular boy name for the year 1969\n",
      "rowid = boys_df[boys_df.year == 1969].prop.idxmax()\n",
      "boys_df.ix[rowid]"
     ],
     "language": "python",
     "metadata": {},
     "outputs": [
      {
       "metadata": {},
       "output_type": "pyout",
       "prompt_number": 7,
       "text": [
        "year           1969\n",
        "name        Michael\n",
        "prop       0.046564\n",
        "sex             boy\n",
        "soundex        M240\n",
        "Name: 89000, dtype: object"
       ]
      }
     ],
     "prompt_number": 7
    },
    {
     "cell_type": "code",
     "collapsed": false,
     "input": [
      "# Apply the get_max_proportion to the whole dataframe\n",
      "# to get the most popular name for each year (showing first 5)\n",
      "def get_max_proportion(group):\n",
      "    return group.ix[group.prop.idxmax()]\n",
      "    \n",
      "popular_boys_df = boys_df.groupby('year').apply(get_max_proportion)\n",
      "popular_boys_df.tail()"
     ],
     "language": "python",
     "metadata": {},
     "outputs": [
      {
       "metadata": {},
       "output_type": "pyout",
       "prompt_number": 8,
       "text": [
        "      year   name      prop  sex soundex\n",
        "year                                    \n",
        "2004  2004  Jacob  0.013196  boy    J210\n",
        "2005  2005  Jacob  0.012148  boy    J210\n",
        "2006  2006  Jacob  0.011331  boy    J210\n",
        "2007  2007  Jacob  0.010948  boy    J210\n",
        "2008  2008  Jacob  0.010355  boy    J210"
       ]
      }
     ],
     "prompt_number": 8
    },
    {
     "cell_type": "code",
     "collapsed": false,
     "input": [
      "# Plot the proportion of the most popular boy name per year\n",
      "# Maybe showing more diversity in chosen boy names over time\n",
      "popular_boys_df.prop.plot(legend=True, title='Proportion most popular boy name', \n",
      "                          kind='area', color='#00A99D', alpha=.5)"
     ],
     "language": "python",
     "metadata": {},
     "outputs": [
      {
       "metadata": {},
       "output_type": "pyout",
       "prompt_number": 9,
       "text": [
        "<matplotlib.axes._subplots.AxesSubplot at 0xd4282b0>"
       ]
      },
      {
       "metadata": {},
       "output_type": "display_data",
       "png": "[encoded data removed]",
       "text": [
        "<matplotlib.figure.Figure at 0xd428278>"
       ]
      }
     ],
     "prompt_number": 9
    },
    {
     "cell_type": "code",
     "collapsed": false,
     "input": [
      "# Set the index to a name/year combination\n",
      "boys_index_df = boys_df.set_index(['name', 'year'])\n",
      "boys_index_df.head()"
     ],
     "language": "python",
     "metadata": {},
     "outputs": [
      {
       "metadata": {},
       "output_type": "pyout",
       "prompt_number": 10,
       "text": [
        "                  prop  sex soundex\n",
        "name    year                       \n",
        "John    1880  0.081541  boy    J500\n",
        "William 1880  0.080511  boy    W450\n",
        "James   1880  0.050057  boy    J520\n",
        "Charles 1880  0.045167  boy    C642\n",
        "George  1880  0.043292  boy    G620"
       ]
      }
     ],
     "prompt_number": 10
    },
    {
     "cell_type": "code",
     "collapsed": false,
     "input": [
      "# Narcissistic query for the popularity of my first name\n",
      "leon_popularity = boys_index_df.ix['Leon']\n",
      "leon_popularity.prop.plot(kind='area', color='#00A99D', alpha=.5, \n",
      "                          legend=True, title='Popularity of the name Leon')"
     ],
     "language": "python",
     "metadata": {},
     "outputs": [
      {
       "metadata": {},
       "output_type": "pyout",
       "prompt_number": 11,
       "text": [
        "<matplotlib.axes._subplots.AxesSubplot at 0xb722780>"
       ]
      },
      {
       "metadata": {},
       "output_type": "display_data",
       "png": "[encoded data removed]",
       "text": [
        "<matplotlib.figure.Figure at 0xb722b38>"
       ]
      }
     ],
     "prompt_number": 11
    },
    {
     "cell_type": "code",
     "collapsed": false,
     "input": [
      "# My name was the most popular in the year...\n",
      "boys_index_df.ix['Leon'].prop.idxmax()"
     ],
     "language": "python",
     "metadata": {},
     "outputs": [
      {
       "metadata": {},
       "output_type": "pyout",
       "prompt_number": 12,
       "text": [
        "1918"
       ]
      }
     ],
     "prompt_number": 12
    },
    {
     "cell_type": "code",
     "collapsed": false,
     "input": [
      "# Highest boy name proportion ever...\n",
      "boys_index_df.prop.idxmax()"
     ],
     "language": "python",
     "metadata": {},
     "outputs": [
      {
       "metadata": {},
       "output_type": "pyout",
       "prompt_number": 13,
       "text": [
        "('John', 1880)"
       ]
      }
     ],
     "prompt_number": 13
    },
    {
     "cell_type": "code",
     "collapsed": false,
     "input": [
      "# Calculate the mean proportion for each girl name in the set\n",
      "# Show first 5 in descending order\n",
      "mean_prop = girls_df.groupby('name')['prop'].mean()\n",
      "mean_prop.order(ascending=False).head()"
     ],
     "language": "python",
     "metadata": {},
     "outputs": [
      {
       "metadata": {},
       "output_type": "pyout",
       "prompt_number": 14,
       "text": [
        "name\n",
        "Mary         0.034976\n",
        "Jennifer     0.011555\n",
        "Elizabeth    0.010791\n",
        "Margaret     0.010550\n",
        "Helen        0.009568\n",
        "Name: prop, dtype: float64"
       ]
      }
     ],
     "prompt_number": 14
    },
    {
     "cell_type": "code",
     "collapsed": false,
     "input": [
      "# Retrieve summary statistics for each year in the data set\n",
      "result = girls_df.groupby('year').describe()\n",
      "result.head(24)"
     ],
     "language": "python",
     "metadata": {},
     "outputs": [
      {
       "metadata": {},
       "output_type": "pyout",
       "prompt_number": 15,
       "text": [
        "                   prop\n",
        "year                   \n",
        "1880 count  1000.000000\n",
        "     mean      0.000935\n",
        "     std       0.003270\n",
        "     min       0.000041\n",
        "     25%       0.000061\n",
        "     50%       0.000123\n",
        "     75%       0.000400\n",
        "     max       0.072381\n",
        "1881 count  1000.000000\n",
        "     mean      0.000933\n",
        "     std       0.003214\n",
        "     min       0.000040\n",
        "     25%       0.000061\n",
        "     50%       0.000121\n",
        "     75%       0.000407\n",
        "     max       0.069986\n",
        "1882 count  1000.000000\n",
        "     mean      0.000931\n",
        "     std       0.003211\n",
        "     min       0.000043\n",
        "     25%       0.000061\n",
        "     50%       0.000121\n",
        "     75%       0.000406\n",
        "     max       0.070431"
       ]
      }
     ],
     "prompt_number": 15
    },
    {
     "cell_type": "markdown",
     "metadata": {},
     "source": [
      "## Calculating Baby Name Diversity"
     ]
    },
    {
     "cell_type": "code",
     "collapsed": false,
     "input": [
      "# Get a single year of girl names and sort by proportion descending\n",
      "girls_df_1972 = girls_df[girls_df.year == 1972]\n",
      "girls_df_1972_sorted = girls_df_1972.sort_index(by='prop', ascending=False)\n",
      "girls_df_1972_sorted.head()"
     ],
     "language": "python",
     "metadata": {},
     "outputs": [
      {
       "metadata": {},
       "output_type": "pyout",
       "prompt_number": 16,
       "text": [
        "        year      name      prop   sex soundex\n",
        "221000  1972  Jennifer  0.039447  girl    J516\n",
        "221001  1972  Michelle  0.018157  girl    M240\n",
        "221002  1972      Lisa  0.017086  girl    L200\n",
        "221003  1972  Kimberly  0.016310  girl    K516\n",
        "221004  1972       Amy  0.016042  girl    A500"
       ]
      }
     ],
     "prompt_number": 16
    },
    {
     "cell_type": "code",
     "collapsed": false,
     "input": [
      "# What is the proportion of this top 1000 girl names of the total names?\n",
      "girls_df_1972_sorted.prop.cumsum().max()"
     ],
     "language": "python",
     "metadata": {},
     "outputs": [
      {
       "metadata": {},
       "output_type": "pyout",
       "prompt_number": 17,
       "text": [
        "0.84374700000000091"
       ]
      }
     ],
     "prompt_number": 17
    },
    {
     "cell_type": "code",
     "collapsed": false,
     "input": [
      "# Where is the 50% crossover point for cumulative sum\n",
      "girls_df_1972_cumsum = girls_df_1972_sorted.prop.cumsum()\n",
      "crossover = girls_df_1972_cumsum.searchsorted(.5)\n",
      "girls_df_1972_cumsum[(crossover[0]-2):crossover[0]+3]"
     ],
     "language": "python",
     "metadata": {},
     "outputs": [
      {
       "metadata": {},
       "output_type": "pyout",
       "prompt_number": 18,
       "text": [
        "221088    0.496577\n",
        "221089    0.498685\n",
        "221090    0.500773\n",
        "221091    0.502820\n",
        "221092    0.504862\n",
        "Name: prop, dtype: float64"
       ]
      }
     ],
     "prompt_number": 18
    },
    {
     "cell_type": "code",
     "collapsed": false,
     "input": [
      "# The crossover can be seen as a meassure of diversity\n",
      "# It's the number of names accounting for 50% of all the names given\n",
      "# So the higher, the more creative name giving\n",
      "crossover[0]"
     ],
     "language": "python",
     "metadata": {},
     "outputs": [
      {
       "metadata": {},
       "output_type": "pyout",
       "prompt_number": 19,
       "text": [
        "90"
       ]
      }
     ],
     "prompt_number": 19
    },
    {
     "cell_type": "code",
     "collapsed": false,
     "input": [
      "# Let's calculate this crossover point for boys and girls per year\n",
      "def get_crossover(group, quantile):\n",
      "    df = group.sort_index(by='prop', ascending=False)\n",
      "    return df.prop.cumsum().searchsorted(quantile)[0]\n",
      "\n",
      "q = .5\n",
      "\n",
      "girls_crossover = girls_df.groupby('year').apply(get_crossover, quantile=q)\n",
      "girls_crossover.name = 'girls'\n",
      "\n",
      "boys_crossover = boys_df.groupby('year').apply(get_crossover, quantile=q)\n",
      "boys_crossover.name = 'boys'\n",
      "\n",
      "# Plot the crossover counts over time\n",
      "girls_crossover.plot(kind='area', color='#00A99D', alpha=.5, legend=True)\n",
      "boys_crossover.plot(title='Baby name diversity', kind='area', \n",
      "                    color='#F5CA0C', alpha=.5, legend=True)"
     ],
     "language": "python",
     "metadata": {},
     "outputs": [
      {
       "metadata": {},
       "output_type": "pyout",
       "prompt_number": 20,
       "text": [
        "<matplotlib.axes._subplots.AxesSubplot at 0xb74e8d0>"
       ]
      },
      {
       "metadata": {},
       "output_type": "display_data",
       "png": "[encoded data removed]",
       "text": [
        "<matplotlib.figure.Figure at 0xf158cf8>"
       ]
      }
     ],
     "prompt_number": 20
    }
   ],
   "metadata": {}
  }
 ]
}