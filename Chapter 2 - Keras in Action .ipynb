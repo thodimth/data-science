{
 "cells": [
  {
   "cell_type": "markdown",
   "metadata": {},
   "source": [
    "# Learn Keras for Deep Neural Networks\n",
    "## Chapter 2 - Keras in Action"
   ]
  },
  {
   "cell_type": "markdown",
   "metadata": {},
   "source": [
    "Getting started with Deep Learning \n",
    "* Models"
   ]
  },
  {
   "cell_type": "code",
   "execution_count": 2,
   "metadata": {},
   "outputs": [],
   "source": [
    "from keras.models import Sequential\n",
    "from keras.layers import Dense, Activation\n",
    "\n",
    "model = Sequential()\n",
    "model.add(Dense(10, input_dim=15))\n",
    "model.add(Activation('relu'))\n"
   ]
  },
  {
   "cell_type": "markdown",
   "metadata": {},
   "source": [
    "#### Core Layers \n",
    "* Dense Layer \n",
    "\n",
    "#### Defintion of a Dense Layer\n",
    "\n",
    "keras.layers.Dense(units, activation=None, use_bias=True, \n",
    "                   kernel_initializer='glorot_uniform', \n",
    "                   bias_initializer='zeros', \n",
    "                   kernel_regularizer=None, \n",
    "                   bias_regularizer=None, \n",
    "                   activity_regularizer=None, \n",
    "                   kernel_constraint=None, \n",
    "                   bias_constraint=None)\n"
   ]
  },
  {
   "cell_type": "code",
   "execution_count": 3,
   "metadata": {},
   "outputs": [],
   "source": [
    "model = Sequential()\n",
    "model.add(Dense(5,input_dim=10, activation = \"sigmoid\"))\n",
    "model.add(Dense(1, activation = \"sigmoid\"))"
   ]
  },
  {
   "cell_type": "markdown",
   "metadata": {},
   "source": [
    "#### Core Layers \n",
    "* Dropout Layer\n",
    "\n",
    "Definition - keras.layers.Dropout(rate, noise_shape=None, seed=None)\n"
   ]
  },
  {
   "cell_type": "code",
   "execution_count": 6,
   "metadata": {},
   "outputs": [],
   "source": [
    "from keras.layers import Dropout\n",
    "\n",
    "model = Sequential()\n",
    "model.add(Dense(5,input_dim=10, activation = \"sigmoid\"))\n",
    "model.add(Dropout(rate = 0.1,seed=100))\n",
    "model.add(Dense(1, activation = \"sigmoid\"))\n"
   ]
  },
  {
   "cell_type": "markdown",
   "metadata": {},
   "source": [
    "#### Putting it all together"
   ]
  },
  {
   "cell_type": "code",
   "execution_count": 29,
   "metadata": {},
   "outputs": [],
   "source": [
    "#Download the data using Keras; this will need an active internet connection\n",
    "from keras.datasets import boston_housing\n",
    "(x_train, y_train), (x_test, y_test) = boston_housing.load_data()"
   ]
  },
  {
   "cell_type": "code",
   "execution_count": null,
   "metadata": {},
   "outputs": [],
   "source": []
  },
  {
   "cell_type": "code",
   "execution_count": 32,
   "metadata": {},
   "outputs": [
    {
     "name": "stdout",
     "output_type": "stream",
     "text": [
      "Epoch 1/3\n",
      "404/404 [==============================] - 0s 564us/step - loss: 1571.4296 - accuracy: 0.0000e+00\n",
      "Epoch 2/3\n",
      "404/404 [==============================] - 0s 94us/step - loss: 284.7500 - accuracy: 0.0000e+00\n",
      "Epoch 3/3\n",
      "404/404 [==============================] - 0s 67us/step - loss: -44.4618 - accuracy: 0.0000e+00\n"
     ]
    },
    {
     "data": {
      "text/plain": [
       "<keras.callbacks.callbacks.History at 0x22ac2d99ef0>"
      ]
     },
     "execution_count": 32,
     "metadata": {},
     "output_type": "execute_result"
    }
   ],
   "source": [
    "import numpy as np\n",
    "from keras.models import Sequential\n",
    "from keras.layers import Dense, Activation\n",
    "\n",
    "\n",
    "from numpy.random import seed\n",
    "seed(2018)\n",
    "from tensorflow import set_random_seed\n",
    "set_random_seed(2018)\n",
    "\n",
    "\n",
    "# # Generate dummy training dataset\n",
    "# x_train = np.random.random((6000,10))\n",
    "# y_train = np.random.randint(2, size=(6000, 1))\n",
    "\n",
    "# # Generate dummy validation dataset\n",
    "# x_val = np.random.random((2000,10))\n",
    "# y_val = np.random.randint(2, size=(2000, 1))\n",
    "\n",
    "# # Generate dummy test dataset\n",
    "# x_test = np.random.random((2000,10))\n",
    "# y_test = np.random.randint(2, size=(2000, 1))\n",
    "\n",
    "#Define the model architecture\n",
    "model = Sequential()\n",
    "model.add(Dense(64, input_dim=13,activation = \"relu\")) #Layer 1\n",
    "model.add(Dense(32,activation = \"relu\"))               #Layer 2\n",
    "model.add(Dense(16,activation = \"relu\"))               #Layer 3\n",
    "model.add(Dense(8,activation = \"relu\"))                #Layer 4\n",
    "model.add(Dense(4,activation = \"relu\"))                #Layer 5\n",
    "model.add(Dense(1,activation = \"sigmoid\"))             #Output Layer\n",
    "\n",
    "#Configure the model\n",
    "model.compile(optimizer='Adam',loss='binary_crossentropy',metrics=['accuracy'])\n",
    "\n",
    "#Train the model\n",
    "model.fit(x_train, y_train, batch_size=64, epochs=3)\n"
   ]
  },
  {
   "cell_type": "code",
   "execution_count": 33,
   "metadata": {},
   "outputs": [
    {
     "name": "stdout",
     "output_type": "stream",
     "text": [
      "Epoch 1/30\n",
      "404/404 [==============================] - 0s 30us/step - loss: -98.2224 - accuracy: 0.0000e+00\n",
      "Epoch 2/30\n",
      "404/404 [==============================] - 0s 22us/step - loss: -193.2292 - accuracy: 0.0000e+00\n",
      "Epoch 3/30\n",
      "404/404 [==============================] - 0s 30us/step - loss: -339.6026 - accuracy: 0.0000e+00\n",
      "Epoch 4/30\n",
      "404/404 [==============================] - 0s 20us/step - loss: -557.5850 - accuracy: 0.0000e+00\n",
      "Epoch 5/30\n",
      "404/404 [==============================] - 0s 40us/step - loss: -905.3756 - accuracy: 0.0000e+00\n",
      "Epoch 6/30\n",
      "404/404 [==============================] - 0s 40us/step - loss: -1465.2518 - accuracy: 0.0000e+00\n",
      "Epoch 7/30\n",
      "404/404 [==============================] - 0s 40us/step - loss: -2342.0710 - accuracy: 0.0000e+00\n",
      "Epoch 8/30\n",
      "404/404 [==============================] - 0s 32us/step - loss: -3811.7390 - accuracy: 0.0000e+00\n",
      "Epoch 9/30\n",
      "404/404 [==============================] - 0s 25us/step - loss: -6170.0980 - accuracy: 0.0000e+00\n",
      "Epoch 10/30\n",
      "404/404 [==============================] - 0s 32us/step - loss: -9931.4784 - accuracy: 0.0000e+00\n",
      "Epoch 11/30\n",
      "404/404 [==============================] - 0s 30us/step - loss: -16013.3623 - accuracy: 0.0000e+00\n",
      "Epoch 12/30\n",
      "404/404 [==============================] - 0s 40us/step - loss: -25656.7275 - accuracy: 0.0000e+00\n",
      "Epoch 13/30\n",
      "404/404 [==============================] - 0s 37us/step - loss: -40097.5579 - accuracy: 0.0000e+00\n",
      "Epoch 14/30\n",
      "404/404 [==============================] - 0s 35us/step - loss: -62030.0429 - accuracy: 0.0000e+00\n",
      "Epoch 15/30\n",
      "404/404 [==============================] - 0s 37us/step - loss: -94657.3107 - accuracy: 0.0000e+00\n",
      "Epoch 16/30\n",
      "404/404 [==============================] - 0s 40us/step - loss: -141725.4534 - accuracy: 0.0000e+00\n",
      "Epoch 17/30\n",
      "404/404 [==============================] - 0s 37us/step - loss: -207948.2039 - accuracy: 0.0000e+00\n",
      "Epoch 18/30\n",
      "404/404 [==============================] - 0s 35us/step - loss: -301274.2515 - accuracy: 0.0000e+00\n",
      "Epoch 19/30\n",
      "404/404 [==============================] - 0s 32us/step - loss: -426968.9062 - accuracy: 0.0000e+00\n",
      "Epoch 20/30\n",
      "404/404 [==============================] - 0s 40us/step - loss: -597056.7562 - accuracy: 0.0000e+00\n",
      "Epoch 21/30\n",
      "404/404 [==============================] - 0s 37us/step - loss: -821811.4839 - accuracy: 0.0000e+00\n",
      "Epoch 22/30\n",
      "404/404 [==============================] - 0s 35us/step - loss: -1116395.3738 - accuracy: 0.0000e+00\n",
      "Epoch 23/30\n",
      "404/404 [==============================] - 0s 37us/step - loss: -1489062.4653 - accuracy: 0.0000e+00\n",
      "Epoch 24/30\n",
      "404/404 [==============================] - 0s 40us/step - loss: -1959145.4666 - accuracy: 0.0000e+00\n",
      "Epoch 25/30\n",
      "404/404 [==============================] - 0s 40us/step - loss: -2561464.0767 - accuracy: 0.0000e+00\n",
      "Epoch 26/30\n",
      "404/404 [==============================] - 0s 42us/step - loss: -3303354.1238 - accuracy: 0.0000e+00\n",
      "Epoch 27/30\n",
      "404/404 [==============================] - 0s 40us/step - loss: -4228232.2871 - accuracy: 0.0000e+00\n",
      "Epoch 28/30\n",
      "404/404 [==============================] - 0s 45us/step - loss: -5370450.5297 - accuracy: 0.0000e+00\n",
      "Epoch 29/30\n",
      "404/404 [==============================] - 0s 45us/step - loss: -6770998.6980 - accuracy: 0.0000e+00\n",
      "Epoch 30/30\n",
      "404/404 [==============================] - 0s 42us/step - loss: -8446779.9703 - accuracy: 0.0000e+00\n"
     ]
    },
    {
     "data": {
      "text/plain": [
       "<keras.callbacks.callbacks.History at 0x22ac198b0b8>"
      ]
     },
     "execution_count": 33,
     "metadata": {},
     "output_type": "execute_result"
    }
   ],
   "source": [
    "model.fit(x_train, y_train, batch_size=64, epochs=30)\n"
   ]
  },
  {
   "cell_type": "code",
   "execution_count": null,
   "metadata": {},
   "outputs": [],
   "source": []
  },
  {
   "cell_type": "code",
   "execution_count": 32,
   "metadata": {},
   "outputs": [
    {
     "name": "stdout",
     "output_type": "stream",
     "text": [
      "[[0.88234931 0.10432774 0.90700933 0.3063989  0.44640887 0.58998539\n",
      "  0.8371111  0.69780061 0.80280284 0.10721508]\n",
      " [0.75709253 0.99967101 0.725931   0.14144824 0.3567206  0.94270411\n",
      "  0.61016189 0.22757747 0.66873237 0.69290455]\n",
      " [0.41686251 0.17180956 0.97689051 0.33022414 0.62904415 0.16061095\n",
      "  0.08995264 0.97082236 0.81657757 0.57136573]\n",
      " [0.34585315 0.403744   0.13738304 0.90093449 0.93393613 0.04737714\n",
      "  0.67150688 0.03483186 0.25269136 0.55712505]\n",
      " [0.52582348 0.35296779 0.09298297 0.30450898 0.86242986 0.71693654\n",
      "  0.96407149 0.53970186 0.95053982 0.66798156]\n",
      " [0.87424103 0.48120492 0.13739854 0.69022154 0.50211855 0.07451108\n",
      "  0.52351229 0.91856772 0.5274287  0.36424787]\n",
      " [0.92818629 0.49269142 0.23640703 0.53141538 0.16525533 0.371387\n",
      "  0.74225181 0.23704057 0.39196365 0.05938974]\n",
      " [0.10276893 0.55725012 0.81930231 0.48981038 0.90230697 0.49004436\n",
      "  0.00303589 0.84366215 0.54368872 0.13869147]\n",
      " [0.08572875 0.40161209 0.82697863 0.80616256 0.20954603 0.30218791\n",
      "  0.75345933 0.12518232 0.88233405 0.93448737]\n",
      " [0.142472   0.18949702 0.40460224 0.473948   0.09906794 0.47471235\n",
      "  0.84469429 0.79187259 0.35902305 0.74563608]]\n",
      "sdf\n",
      "[[0.26794846 0.45311343 0.3163587  0.40551464 0.83324812 0.29926402\n",
      "  0.58604988 0.4265123  0.39054642 0.11719099]\n",
      " [0.38835659 0.13661398 0.43791187 0.35953925 0.28232502 0.63733196\n",
      "  0.04315783 0.36698055 0.96092323 0.07970832]\n",
      " [0.78676828 0.4734678  0.78487578 0.55263435 0.57265221 0.79656561\n",
      "  0.98978979 0.9059708  0.85610936 0.4178593 ]\n",
      " [0.13634476 0.01439594 0.63673535 0.31518873 0.26061521 0.41831776\n",
      "  0.83293788 0.03042154 0.89161667 0.12073609]\n",
      " [0.74403628 0.34219727 0.81769273 0.11254841 0.00920876 0.36165523\n",
      "  0.50033997 0.84242664 0.40227329 0.06407224]\n",
      " [0.50533902 0.50701475 0.54050708 0.59235759 0.97741647 0.06884431\n",
      "  0.13387683 0.17632566 0.61302174 0.5997502 ]\n",
      " [0.57084323 0.93229789 0.88993136 0.77996226 0.70914402 0.60017046\n",
      "  0.56650348 0.9040863  0.28178547 0.09585478]\n",
      " [0.76576207 0.61956373 0.47285659 0.62899629 0.01747167 0.12566464\n",
      "  0.12694226 0.31119618 0.08738258 0.36606282]\n",
      " [0.56215208 0.68463042 0.18359825 0.43401489 0.42432408 0.56262951\n",
      "  0.16307223 0.73921326 0.12070907 0.0267515 ]\n",
      " [0.89407057 0.1028051  0.63743563 0.72838004 0.9416155  0.979424\n",
      "  0.05262605 0.19090817 0.74782467 0.13233449]]\n"
     ]
    }
   ],
   "source": [
    "print(x_train[:10])\n",
    "print(\"sdf\")\n",
    "print(x_val[:10])"
   ]
  },
  {
   "cell_type": "code",
   "execution_count": 10,
   "metadata": {},
   "outputs": [
    {
     "name": "stdout",
     "output_type": "stream",
     "text": [
      "Type of the Dataset: <class 'numpy.ndarray'>\n",
      "Shape of training data : (404, 13)\n",
      "Shape of training labels : (404,)\n",
      "Shape of testing data : (102, 13)\n",
      "Shape of testing data : <class 'numpy.ndarray'>\n",
      "Shape of testing labels : (102,)\n"
     ]
    }
   ],
   "source": [
    "#Explore the data structure using basic python commands\n",
    "print(\"Type of the Dataset:\",type(y_train))\n",
    "print(\"Shape of training data :\",x_train.shape)\n",
    "print(\"Shape of training labels :\",y_train.shape)\n",
    "print(\"Shape of testing data :\",x_test.shape)\n",
    "print(\"Shape of testing data :\",type(x_test))\n",
    "print(\"Shape of testing labels :\",y_test.shape)"
   ]
  },
  {
   "cell_type": "markdown",
   "metadata": {},
   "source": [
    "### Metadata for the data\n",
    "\n",
    "| Column Name \t| Description                                                           \t|\n",
    "|-------------\t|-----------------------------------------------------------------------\t|\n",
    "| CRIM        \t| per capita crime rate by town                                         \t|\n",
    "| ZN          \t| proportion of residential land zoned for lots over 25,000 sq.ft.      \t|\n",
    "| INDUS       \t| proportion of non-retail business acres per town                      \t|\n",
    "| CHAS        \t| Charles River dummy variable (= 1 if tract bounds river; 0 otherwise) \t|\n",
    "| NOX         \t| nitric oxides concentration (parts per 10 million)                    \t|\n",
    "| RM          \t| average number of rooms per dwelling                                  \t|\n",
    "| AGE         \t| proportion of owner-occupied units built prior to 1940                \t|\n",
    "| DIS         \t| weighted distances to five Boston employment centers                  \t|\n",
    "| RAD         \t| index of accessibility to radial highways                             \t|\n",
    "| TAX         \t| full-value property-tax rate per USD 10,000                              \t|\n",
    "| PTRATIO     \t| pupil-teacher ratio by town                                           \t|\n",
    "| B           \t| 1000(Bk - 0.63)^2 where Bk is the proportion of blacks by town        \t|\n",
    "| LSTAT       \t| Percent lower status of the population                                \t|\n",
    "| MEDV        \t| Median value of owner-occupied homes in USD 1000's                       \t|"
   ]
  },
  {
   "cell_type": "code",
   "execution_count": 9,
   "metadata": {},
   "outputs": [
    {
     "data": {
      "text/plain": [
       "array([[1.23247e+00, 0.00000e+00, 8.14000e+00, 0.00000e+00, 5.38000e-01,\n",
       "        6.14200e+00, 9.17000e+01, 3.97690e+00, 4.00000e+00, 3.07000e+02,\n",
       "        2.10000e+01, 3.96900e+02, 1.87200e+01],\n",
       "       [2.17700e-02, 8.25000e+01, 2.03000e+00, 0.00000e+00, 4.15000e-01,\n",
       "        7.61000e+00, 1.57000e+01, 6.27000e+00, 2.00000e+00, 3.48000e+02,\n",
       "        1.47000e+01, 3.95380e+02, 3.11000e+00],\n",
       "       [4.89822e+00, 0.00000e+00, 1.81000e+01, 0.00000e+00, 6.31000e-01,\n",
       "        4.97000e+00, 1.00000e+02, 1.33250e+00, 2.40000e+01, 6.66000e+02,\n",
       "        2.02000e+01, 3.75520e+02, 3.26000e+00]])"
      ]
     },
     "execution_count": 9,
     "metadata": {},
     "output_type": "execute_result"
    }
   ],
   "source": [
    "x_train[:3,:]"
   ]
  },
  {
   "cell_type": "markdown",
   "metadata": {},
   "source": [
    "### Desing the neural network"
   ]
  },
  {
   "cell_type": "code",
   "execution_count": 16,
   "metadata": {},
   "outputs": [
    {
     "data": {
      "text/plain": [
       "15.2"
      ]
     },
     "execution_count": 16,
     "metadata": {},
     "output_type": "execute_result"
    }
   ],
   "source": [
    "y_train[0]"
   ]
  },
  {
   "cell_type": "code",
   "execution_count": 24,
   "metadata": {},
   "outputs": [],
   "source": [
    "import numpy as np\n",
    "from keras.models import Sequential\n",
    "from keras.layers import Dense, Activation\n",
    "\n",
    "\n",
    "#Define the model architecture\n",
    "model = Sequential()\n",
    "model.add(Dense(13, input_dim=13, kernel_initializer='normal', activation='relu'))\n",
    "model.add(Dense(6, kernel_initializer='normal', activation='relu'))\n",
    "model.add(Dense(1, kernel_initializer='normal'))\n",
    "\n",
    "# Compile model\n",
    "model.compile(loss='mean_squared_error', optimizer='adam', metrics=['mean_absolute_percentage_error','accuracy'])\n",
    "\n"
   ]
  },
  {
   "cell_type": "code",
   "execution_count": 25,
   "metadata": {},
   "outputs": [
    {
     "name": "stdout",
     "output_type": "stream",
     "text": [
      "Epoch 1/100\n",
      "404/404 [==============================] - 0s 238us/step - loss: 553.6031 - mean_absolute_percentage_error: 96.0549 - accuracy: 0.0000e+00\n",
      "Epoch 2/100\n",
      "404/404 [==============================] - 0s 45us/step - loss: 522.3672 - mean_absolute_percentage_error: 91.9571 - accuracy: 0.0000e+00\n",
      "Epoch 3/100\n",
      "404/404 [==============================] - 0s 50us/step - loss: 471.3383 - mean_absolute_percentage_error: 84.4856 - accuracy: 0.0000e+00\n",
      "Epoch 4/100\n",
      "404/404 [==============================] - 0s 59us/step - loss: 384.7768 - mean_absolute_percentage_error: 71.1282 - accuracy: 0.0000e+00\n",
      "Epoch 5/100\n",
      "404/404 [==============================] - 0s 52us/step - loss: 264.3113 - mean_absolute_percentage_error: 54.1972 - accuracy: 0.0000e+00\n",
      "Epoch 6/100\n",
      "404/404 [==============================] - 0s 62us/step - loss: 166.0508 - mean_absolute_percentage_error: 44.7264 - accuracy: 0.0000e+00\n",
      "Epoch 7/100\n",
      "404/404 [==============================] - 0s 37us/step - loss: 137.2174 - mean_absolute_percentage_error: 48.0494 - accuracy: 0.0050\n",
      "Epoch 8/100\n",
      "404/404 [==============================] - 0s 40us/step - loss: 130.2353 - mean_absolute_percentage_error: 47.4300 - accuracy: 0.0025\n",
      "Epoch 9/100\n",
      "404/404 [==============================] - 0s 67us/step - loss: 123.2141 - mean_absolute_percentage_error: 43.8714 - accuracy: 0.0025\n",
      "Epoch 10/100\n",
      "404/404 [==============================] - 0s 52us/step - loss: 117.3805 - mean_absolute_percentage_error: 42.0277 - accuracy: 0.0050\n",
      "Epoch 11/100\n",
      "404/404 [==============================] - 0s 72us/step - loss: 112.2097 - mean_absolute_percentage_error: 41.0037 - accuracy: 0.0050\n",
      "Epoch 12/100\n",
      "404/404 [==============================] - 0s 64us/step - loss: 107.4967 - mean_absolute_percentage_error: 39.6576 - accuracy: 0.0050\n",
      "Epoch 13/100\n",
      "404/404 [==============================] - 0s 69us/step - loss: 103.0360 - mean_absolute_percentage_error: 38.5110 - accuracy: 0.0099\n",
      "Epoch 14/100\n",
      "404/404 [==============================] - 0s 74us/step - loss: 98.8985 - mean_absolute_percentage_error: 37.3897 - accuracy: 0.0099\n",
      "Epoch 15/100\n",
      "404/404 [==============================] - 0s 74us/step - loss: 95.0408 - mean_absolute_percentage_error: 36.3980 - accuracy: 0.0124\n",
      "Epoch 16/100\n",
      "404/404 [==============================] - 0s 74us/step - loss: 91.8963 - mean_absolute_percentage_error: 35.4502 - accuracy: 0.0074\n",
      "Epoch 17/100\n",
      "404/404 [==============================] - 0s 87us/step - loss: 88.2307 - mean_absolute_percentage_error: 34.2541 - accuracy: 0.0124\n",
      "Epoch 18/100\n",
      "404/404 [==============================] - 0s 79us/step - loss: 85.3397 - mean_absolute_percentage_error: 34.3019 - accuracy: 0.0099\n",
      "Epoch 19/100\n",
      "404/404 [==============================] - 0s 50us/step - loss: 82.4810 - mean_absolute_percentage_error: 33.4336 - accuracy: 0.0099\n",
      "Epoch 20/100\n",
      "404/404 [==============================] - 0s 54us/step - loss: 80.2609 - mean_absolute_percentage_error: 32.1174 - accuracy: 0.0124\n",
      "Epoch 21/100\n",
      "404/404 [==============================] - 0s 57us/step - loss: 78.2241 - mean_absolute_percentage_error: 31.5957 - accuracy: 0.0149\n",
      "Epoch 22/100\n",
      "404/404 [==============================] - 0s 67us/step - loss: 76.4547 - mean_absolute_percentage_error: 31.9151 - accuracy: 0.0099\n",
      "Epoch 23/100\n",
      "404/404 [==============================] - 0s 64us/step - loss: 75.1327 - mean_absolute_percentage_error: 30.6645 - accuracy: 0.0099\n",
      "Epoch 24/100\n",
      "404/404 [==============================] - 0s 49us/step - loss: 73.1910 - mean_absolute_percentage_error: 30.5274 - accuracy: 0.0099\n",
      "Epoch 25/100\n",
      "404/404 [==============================] - 0s 64us/step - loss: 72.1561 - mean_absolute_percentage_error: 31.5299 - accuracy: 0.0124\n",
      "Epoch 26/100\n",
      "404/404 [==============================] - 0s 50us/step - loss: 70.7305 - mean_absolute_percentage_error: 30.9065 - accuracy: 0.0149\n",
      "Epoch 27/100\n",
      "404/404 [==============================] - 0s 57us/step - loss: 69.8079 - mean_absolute_percentage_error: 30.0977 - accuracy: 0.0124\n",
      "Epoch 28/100\n",
      "404/404 [==============================] - 0s 54us/step - loss: 68.9211 - mean_absolute_percentage_error: 29.5254 - accuracy: 0.0124\n",
      "Epoch 29/100\n",
      "404/404 [==============================] - 0s 67us/step - loss: 68.3023 - mean_absolute_percentage_error: 30.5552 - accuracy: 0.0124\n",
      "Epoch 30/100\n",
      "404/404 [==============================] - 0s 62us/step - loss: 67.3451 - mean_absolute_percentage_error: 29.7572 - accuracy: 0.0149\n",
      "Epoch 31/100\n",
      "404/404 [==============================] - 0s 47us/step - loss: 66.3802 - mean_absolute_percentage_error: 29.1427 - accuracy: 0.0149\n",
      "Epoch 32/100\n",
      "404/404 [==============================] - 0s 47us/step - loss: 65.8932 - mean_absolute_percentage_error: 29.6755 - accuracy: 0.0149\n",
      "Epoch 33/100\n",
      "404/404 [==============================] - 0s 45us/step - loss: 64.9593 - mean_absolute_percentage_error: 28.3234 - accuracy: 0.0124\n",
      "Epoch 34/100\n",
      "404/404 [==============================] - 0s 47us/step - loss: 64.2950 - mean_absolute_percentage_error: 28.4080 - accuracy: 0.0099\n",
      "Epoch 35/100\n",
      "404/404 [==============================] - 0s 57us/step - loss: 63.7631 - mean_absolute_percentage_error: 28.5076 - accuracy: 0.0149\n",
      "Epoch 36/100\n",
      "404/404 [==============================] - 0s 42us/step - loss: 62.9953 - mean_absolute_percentage_error: 27.7087 - accuracy: 0.0124\n",
      "Epoch 37/100\n",
      "404/404 [==============================] - 0s 47us/step - loss: 62.3346 - mean_absolute_percentage_error: 27.4512 - accuracy: 0.0099\n",
      "Epoch 38/100\n",
      "404/404 [==============================] - 0s 47us/step - loss: 62.0354 - mean_absolute_percentage_error: 27.9615 - accuracy: 0.0050\n",
      "Epoch 39/100\n",
      "404/404 [==============================] - 0s 54us/step - loss: 61.4334 - mean_absolute_percentage_error: 26.8074 - accuracy: 0.0099\n",
      "Epoch 40/100\n",
      "404/404 [==============================] - 0s 54us/step - loss: 61.0934 - mean_absolute_percentage_error: 27.3589 - accuracy: 0.0074\n",
      "Epoch 41/100\n",
      "404/404 [==============================] - 0s 52us/step - loss: 60.7602 - mean_absolute_percentage_error: 27.2487 - accuracy: 0.0074\n",
      "Epoch 42/100\n",
      "404/404 [==============================] - 0s 48us/step - loss: 60.2910 - mean_absolute_percentage_error: 26.5277 - accuracy: 0.0074\n",
      "Epoch 43/100\n",
      "404/404 [==============================] - 0s 72us/step - loss: 59.9625 - mean_absolute_percentage_error: 26.7249 - accuracy: 0.0074\n",
      "Epoch 44/100\n",
      "404/404 [==============================] - 0s 47us/step - loss: 59.6271 - mean_absolute_percentage_error: 26.6900 - accuracy: 0.0050\n",
      "Epoch 45/100\n",
      "404/404 [==============================] - 0s 44us/step - loss: 59.4585 - mean_absolute_percentage_error: 26.9742 - accuracy: 0.0050\n",
      "Epoch 46/100\n",
      "404/404 [==============================] - 0s 47us/step - loss: 59.2864 - mean_absolute_percentage_error: 26.1986 - accuracy: 0.0050\n",
      "Epoch 47/100\n",
      "404/404 [==============================] - 0s 62us/step - loss: 59.6932 - mean_absolute_percentage_error: 27.7836 - accuracy: 0.0074\n",
      "Epoch 48/100\n",
      "404/404 [==============================] - 0s 47us/step - loss: 58.4090 - mean_absolute_percentage_error: 26.2554 - accuracy: 0.0050\n",
      "Epoch 49/100\n",
      "404/404 [==============================] - 0s 54us/step - loss: 59.1216 - mean_absolute_percentage_error: 25.0721 - accuracy: 0.0149\n",
      "Epoch 50/100\n",
      "404/404 [==============================] - 0s 47us/step - loss: 59.5157 - mean_absolute_percentage_error: 28.0296 - accuracy: 0.0050\n",
      "Epoch 51/100\n",
      "404/404 [==============================] - 0s 69us/step - loss: 58.1826 - mean_absolute_percentage_error: 25.5652 - accuracy: 0.0124\n",
      "Epoch 52/100\n",
      "404/404 [==============================] - 0s 49us/step - loss: 57.5433 - mean_absolute_percentage_error: 25.7091 - accuracy: 0.0050\n",
      "Epoch 53/100\n",
      "404/404 [==============================] - 0s 42us/step - loss: 57.4237 - mean_absolute_percentage_error: 26.4025 - accuracy: 0.0074\n",
      "Epoch 54/100\n",
      "404/404 [==============================] - 0s 45us/step - loss: 56.7914 - mean_absolute_percentage_error: 25.8356 - accuracy: 0.0050\n",
      "Epoch 55/100\n",
      "404/404 [==============================] - 0s 50us/step - loss: 56.4857 - mean_absolute_percentage_error: 25.0058 - accuracy: 0.0074\n",
      "Epoch 56/100\n",
      "404/404 [==============================] - 0s 52us/step - loss: 56.1099 - mean_absolute_percentage_error: 24.9798 - accuracy: 0.0074\n",
      "Epoch 57/100\n",
      "404/404 [==============================] - 0s 64us/step - loss: 56.6639 - mean_absolute_percentage_error: 26.4946 - accuracy: 0.0099\n",
      "Epoch 58/100\n",
      "404/404 [==============================] - 0s 119us/step - loss: 55.3686 - mean_absolute_percentage_error: 24.4868 - accuracy: 0.0074\n",
      "Epoch 59/100\n",
      "404/404 [==============================] - 0s 82us/step - loss: 55.3352 - mean_absolute_percentage_error: 24.8188 - accuracy: 0.0050\n",
      "Epoch 60/100\n",
      "404/404 [==============================] - 0s 62us/step - loss: 54.7991 - mean_absolute_percentage_error: 24.5625 - accuracy: 0.0074\n",
      "Epoch 61/100\n",
      "404/404 [==============================] - 0s 69us/step - loss: 54.5765 - mean_absolute_percentage_error: 24.3241 - accuracy: 0.0074\n",
      "Epoch 62/100\n",
      "404/404 [==============================] - 0s 72us/step - loss: 54.3915 - mean_absolute_percentage_error: 25.4359 - accuracy: 0.0074\n",
      "Epoch 63/100\n",
      "404/404 [==============================] - 0s 59us/step - loss: 54.0576 - mean_absolute_percentage_error: 24.3601 - accuracy: 0.0074\n",
      "Epoch 64/100\n",
      "404/404 [==============================] - 0s 42us/step - loss: 53.6583 - mean_absolute_percentage_error: 24.2020 - accuracy: 0.0074\n",
      "Epoch 65/100\n",
      "404/404 [==============================] - 0s 42us/step - loss: 53.6553 - mean_absolute_percentage_error: 25.3674 - accuracy: 0.0099\n",
      "Epoch 66/100\n",
      "404/404 [==============================] - 0s 45us/step - loss: 53.6257 - mean_absolute_percentage_error: 23.3563 - accuracy: 0.0099\n",
      "Epoch 67/100\n",
      "404/404 [==============================] - 0s 47us/step - loss: 53.3069 - mean_absolute_percentage_error: 25.1812 - accuracy: 0.0099\n",
      "Epoch 68/100\n",
      "404/404 [==============================] - 0s 49us/step - loss: 52.4462 - mean_absolute_percentage_error: 24.0754 - accuracy: 0.0124\n",
      "Epoch 69/100\n",
      "404/404 [==============================] - 0s 47us/step - loss: 52.4460 - mean_absolute_percentage_error: 23.7340 - accuracy: 0.0074\n",
      "Epoch 70/100\n",
      "404/404 [==============================] - 0s 45us/step - loss: 52.4011 - mean_absolute_percentage_error: 24.8921 - accuracy: 0.0074\n",
      "Epoch 71/100\n",
      "404/404 [==============================] - 0s 45us/step - loss: 52.0336 - mean_absolute_percentage_error: 23.1003 - accuracy: 0.0099\n",
      "Epoch 72/100\n",
      "404/404 [==============================] - 0s 49us/step - loss: 52.2493 - mean_absolute_percentage_error: 24.6566 - accuracy: 0.0050\n",
      "Epoch 73/100\n",
      "404/404 [==============================] - 0s 45us/step - loss: 51.0993 - mean_absolute_percentage_error: 23.6072 - accuracy: 0.0149\n",
      "Epoch 74/100\n",
      "404/404 [==============================] - 0s 45us/step - loss: 50.8868 - mean_absolute_percentage_error: 23.1389 - accuracy: 0.0149\n",
      "Epoch 75/100\n",
      "404/404 [==============================] - 0s 47us/step - loss: 50.5690 - mean_absolute_percentage_error: 24.1999 - accuracy: 0.0124\n",
      "Epoch 76/100\n",
      "404/404 [==============================] - 0s 42us/step - loss: 50.5152 - mean_absolute_percentage_error: 22.8883 - accuracy: 0.0198\n",
      "Epoch 77/100\n",
      "404/404 [==============================] - 0s 47us/step - loss: 50.1470 - mean_absolute_percentage_error: 24.0462 - accuracy: 0.0099\n",
      "Epoch 78/100\n",
      "404/404 [==============================] - 0s 45us/step - loss: 49.6461 - mean_absolute_percentage_error: 23.9987 - accuracy: 0.0149\n",
      "Epoch 79/100\n",
      "404/404 [==============================] - 0s 47us/step - loss: 49.7183 - mean_absolute_percentage_error: 22.2328 - accuracy: 0.0149\n",
      "Epoch 80/100\n",
      "404/404 [==============================] - 0s 47us/step - loss: 49.0700 - mean_absolute_percentage_error: 23.3964 - accuracy: 0.0149\n",
      "Epoch 81/100\n",
      "404/404 [==============================] - 0s 47us/step - loss: 48.8994 - mean_absolute_percentage_error: 23.2799 - accuracy: 0.0149\n",
      "Epoch 82/100\n",
      "404/404 [==============================] - 0s 62us/step - loss: 48.5066 - mean_absolute_percentage_error: 23.9929 - accuracy: 0.0099\n",
      "Epoch 83/100\n",
      "404/404 [==============================] - 0s 50us/step - loss: 48.1954 - mean_absolute_percentage_error: 22.0834 - accuracy: 0.0099\n",
      "Epoch 84/100\n",
      "404/404 [==============================] - 0s 57us/step - loss: 48.2713 - mean_absolute_percentage_error: 24.1996 - accuracy: 0.0074\n",
      "Epoch 85/100\n",
      "404/404 [==============================] - 0s 47us/step - loss: 47.4608 - mean_absolute_percentage_error: 22.2321 - accuracy: 0.0173\n",
      "Epoch 86/100\n",
      "404/404 [==============================] - 0s 45us/step - loss: 47.1431 - mean_absolute_percentage_error: 22.7711 - accuracy: 0.0149\n",
      "Epoch 87/100\n",
      "404/404 [==============================] - 0s 47us/step - loss: 46.5582 - mean_absolute_percentage_error: 22.6168 - accuracy: 0.0124\n",
      "Epoch 88/100\n",
      "404/404 [==============================] - 0s 62us/step - loss: 46.6376 - mean_absolute_percentage_error: 22.6181 - accuracy: 0.0149\n",
      "Epoch 89/100\n",
      "404/404 [==============================] - 0s 50us/step - loss: 46.2915 - mean_absolute_percentage_error: 21.8983 - accuracy: 0.0149\n",
      "Epoch 90/100\n",
      "404/404 [==============================] - 0s 49us/step - loss: 45.7560 - mean_absolute_percentage_error: 22.1481 - accuracy: 0.0173\n",
      "Epoch 91/100\n",
      "404/404 [==============================] - 0s 50us/step - loss: 45.3836 - mean_absolute_percentage_error: 22.7725 - accuracy: 0.0099\n",
      "Epoch 92/100\n",
      "404/404 [==============================] - 0s 45us/step - loss: 45.2360 - mean_absolute_percentage_error: 21.3014 - accuracy: 0.0124\n",
      "Epoch 93/100\n",
      "404/404 [==============================] - 0s 42us/step - loss: 44.8506 - mean_absolute_percentage_error: 23.2549 - accuracy: 0.0124\n",
      "Epoch 94/100\n",
      "404/404 [==============================] - 0s 42us/step - loss: 44.2168 - mean_absolute_percentage_error: 20.7314 - accuracy: 0.0124\n",
      "Epoch 95/100\n",
      "404/404 [==============================] - 0s 47us/step - loss: 43.7510 - mean_absolute_percentage_error: 21.8351 - accuracy: 0.0124\n",
      "Epoch 96/100\n",
      "404/404 [==============================] - 0s 42us/step - loss: 43.2464 - mean_absolute_percentage_error: 21.8280 - accuracy: 0.0124\n",
      "Epoch 97/100\n",
      "404/404 [==============================] - 0s 40us/step - loss: 42.8706 - mean_absolute_percentage_error: 21.5395 - accuracy: 0.0124\n",
      "Epoch 98/100\n",
      "404/404 [==============================] - 0s 47us/step - loss: 42.7640 - mean_absolute_percentage_error: 20.5172 - accuracy: 0.0149\n",
      "Epoch 99/100\n",
      "404/404 [==============================] - 0s 45us/step - loss: 42.0633 - mean_absolute_percentage_error: 21.7078 - accuracy: 0.0025\n",
      "Epoch 100/100\n",
      "404/404 [==============================] - 0s 50us/step - loss: 41.8769 - mean_absolute_percentage_error: 20.2720 - accuracy: 0.0149\n"
     ]
    },
    {
     "data": {
      "text/plain": [
       "<keras.callbacks.callbacks.History at 0x22abeca6358>"
      ]
     },
     "execution_count": 25,
     "metadata": {},
     "output_type": "execute_result"
    }
   ],
   "source": [
    "#Train the model\n",
    "model.fit(x_train, y_train, batch_size=32, epochs=100)\n"
   ]
  },
  {
   "cell_type": "code",
   "execution_count": 16,
   "metadata": {},
   "outputs": [
    {
     "name": "stdout",
     "output_type": "stream",
     "text": [
      "102/102 [==============================] - 0s 47us/step\n",
      "loss  :  60.73957645191866\n",
      "mean_absolute_percentage_error  :  30.230230032228956\n"
     ]
    }
   ],
   "source": [
    "results = model.evaluate(x_test, y_test)\n",
    "\n",
    "for i in range(len(model.metrics_names)):\n",
    "    print(model.metrics_names[i],\" : \", results[i])\n"
   ]
  },
  {
   "cell_type": "code",
   "execution_count": 17,
   "metadata": {},
   "outputs": [
    {
     "name": "stdout",
     "output_type": "stream",
     "text": [
      "Train on 404 samples, validate on 104 samples\n",
      "Epoch 1/30\n",
      "404/404 [==============================] - 0s 38us/step - loss: 56.0712 - mean_absolute_percentage_error: 23.3996 - val_loss: 81.3938 - val_mean_absolute_percentage_error: 22.2527\n",
      "Epoch 2/30\n",
      "404/404 [==============================] - 0s 36us/step - loss: 54.9494 - mean_absolute_percentage_error: 23.8799 - val_loss: 76.7879 - val_mean_absolute_percentage_error: 24.4968\n",
      "Epoch 3/30\n",
      "404/404 [==============================] - 0s 50us/step - loss: 55.3270 - mean_absolute_percentage_error: 25.9749 - val_loss: 78.1830 - val_mean_absolute_percentage_error: 23.0118\n",
      "Epoch 4/30\n",
      "404/404 [==============================] - 0s 64us/step - loss: 54.4114 - mean_absolute_percentage_error: 23.7856 - val_loss: 77.4965 - val_mean_absolute_percentage_error: 23.0605\n",
      "Epoch 5/30\n",
      "404/404 [==============================] - 0s 54us/step - loss: 54.0004 - mean_absolute_percentage_error: 24.2953 - val_loss: 77.0992 - val_mean_absolute_percentage_error: 22.9819\n",
      "Epoch 6/30\n",
      "404/404 [==============================] - 0s 57us/step - loss: 53.7771 - mean_absolute_percentage_error: 24.1350 - val_loss: 76.5673 - val_mean_absolute_percentage_error: 22.9386\n",
      "Epoch 7/30\n",
      "404/404 [==============================] - 0s 32us/step - loss: 53.2988 - mean_absolute_percentage_error: 23.4371 - val_loss: 76.6129 - val_mean_absolute_percentage_error: 22.6209\n",
      "Epoch 8/30\n",
      "404/404 [==============================] - 0s 49us/step - loss: 53.1344 - mean_absolute_percentage_error: 23.8508 - val_loss: 75.0798 - val_mean_absolute_percentage_error: 23.3396\n",
      "Epoch 9/30\n",
      "404/404 [==============================] - 0s 46us/step - loss: 52.8575 - mean_absolute_percentage_error: 23.9303 - val_loss: 76.7351 - val_mean_absolute_percentage_error: 22.0030\n",
      "Epoch 10/30\n",
      "404/404 [==============================] - 0s 43us/step - loss: 52.5260 - mean_absolute_percentage_error: 22.9515 - val_loss: 74.3610 - val_mean_absolute_percentage_error: 22.9795\n",
      "Epoch 11/30\n",
      "404/404 [==============================] - 0s 57us/step - loss: 52.2489 - mean_absolute_percentage_error: 24.6278 - val_loss: 74.1006 - val_mean_absolute_percentage_error: 22.8175\n",
      "Epoch 12/30\n",
      "404/404 [==============================] - 0s 28us/step - loss: 52.0432 - mean_absolute_percentage_error: 22.5138 - val_loss: 75.2133 - val_mean_absolute_percentage_error: 21.8098\n",
      "Epoch 13/30\n",
      "404/404 [==============================] - 0s 45us/step - loss: 51.3897 - mean_absolute_percentage_error: 23.2307 - val_loss: 73.4567 - val_mean_absolute_percentage_error: 22.3941\n",
      "Epoch 14/30\n",
      "404/404 [==============================] - 0s 31us/step - loss: 51.3470 - mean_absolute_percentage_error: 24.8982 - val_loss: 72.8103 - val_mean_absolute_percentage_error: 22.2180\n",
      "Epoch 15/30\n",
      "404/404 [==============================] - 0s 56us/step - loss: 50.7736 - mean_absolute_percentage_error: 21.7647 - val_loss: 73.3813 - val_mean_absolute_percentage_error: 21.4604\n",
      "Epoch 16/30\n",
      "404/404 [==============================] - 0s 43us/step - loss: 49.8907 - mean_absolute_percentage_error: 23.6661 - val_loss: 70.6683 - val_mean_absolute_percentage_error: 23.0048\n",
      "Epoch 17/30\n",
      "404/404 [==============================] - 0s 48us/step - loss: 49.8264 - mean_absolute_percentage_error: 23.6251 - val_loss: 70.8511 - val_mean_absolute_percentage_error: 22.3011\n",
      "Epoch 18/30\n",
      "404/404 [==============================] - 0s 38us/step - loss: 49.3035 - mean_absolute_percentage_error: 22.1989 - val_loss: 71.4762 - val_mean_absolute_percentage_error: 21.3470\n",
      "Epoch 19/30\n",
      "404/404 [==============================] - 0s 47us/step - loss: 48.6826 - mean_absolute_percentage_error: 22.2847 - val_loss: 69.0820 - val_mean_absolute_percentage_error: 22.6076\n",
      "Epoch 20/30\n",
      "404/404 [==============================] - 0s 39us/step - loss: 48.7499 - mean_absolute_percentage_error: 24.0462 - val_loss: 69.9161 - val_mean_absolute_percentage_error: 21.2971\n",
      "Epoch 21/30\n",
      "404/404 [==============================] - 0s 38us/step - loss: 48.1568 - mean_absolute_percentage_error: 20.9823 - val_loss: 68.5259 - val_mean_absolute_percentage_error: 21.6884\n",
      "Epoch 22/30\n",
      "404/404 [==============================] - 0s 50us/step - loss: 48.4463 - mean_absolute_percentage_error: 25.0588 - val_loss: 67.1394 - val_mean_absolute_percentage_error: 22.0329\n",
      "Epoch 23/30\n",
      "404/404 [==============================] - 0s 34us/step - loss: 48.4314 - mean_absolute_percentage_error: 20.3513 - val_loss: 67.9163 - val_mean_absolute_percentage_error: 20.9677\n",
      "Epoch 24/30\n",
      "404/404 [==============================] - 0s 46us/step - loss: 46.2969 - mean_absolute_percentage_error: 22.1445 - val_loss: 65.6267 - val_mean_absolute_percentage_error: 22.2411\n",
      "Epoch 25/30\n",
      "404/404 [==============================] - 0s 38us/step - loss: 46.3643 - mean_absolute_percentage_error: 23.5520 - val_loss: 67.3056 - val_mean_absolute_percentage_error: 20.3864\n",
      "Epoch 26/30\n",
      "404/404 [==============================] - 0s 45us/step - loss: 46.0554 - mean_absolute_percentage_error: 20.8538 - val_loss: 65.1951 - val_mean_absolute_percentage_error: 21.1404\n",
      "Epoch 27/30\n",
      "404/404 [==============================] - 0s 39us/step - loss: 45.1127 - mean_absolute_percentage_error: 21.9770 - val_loss: 64.4997 - val_mean_absolute_percentage_error: 21.0543\n",
      "Epoch 28/30\n",
      "404/404 [==============================] - 0s 42us/step - loss: 44.8834 - mean_absolute_percentage_error: 21.9936 - val_loss: 64.7258 - val_mean_absolute_percentage_error: 20.4036\n",
      "Epoch 29/30\n",
      "404/404 [==============================] - 0s 44us/step - loss: 44.5773 - mean_absolute_percentage_error: 20.6821 - val_loss: 63.3499 - val_mean_absolute_percentage_error: 20.7962\n",
      "Epoch 30/30\n",
      "404/404 [==============================] - 0s 41us/step - loss: 44.2133 - mean_absolute_percentage_error: 21.3362 - val_loss: 63.1252 - val_mean_absolute_percentage_error: 20.4065\n"
     ]
    },
    {
     "data": {
      "text/plain": [
       "<keras.callbacks.History at 0xb20bd45c0>"
      ]
     },
     "execution_count": 17,
     "metadata": {},
     "output_type": "execute_result"
    }
   ],
   "source": [
    "#Train the model\n",
    "model.fit(x_train, y_train, batch_size=32, epochs=30, validation_data=(x_val,y_val))\n"
   ]
  },
  {
   "cell_type": "code",
   "execution_count": 18,
   "metadata": {},
   "outputs": [
    {
     "name": "stdout",
     "output_type": "stream",
     "text": [
      "102/102 [==============================] - 0s 43us/step\n",
      "loss  :  49.132040584788605\n",
      "mean_absolute_percentage_error  :  25.194283765905045\n"
     ]
    }
   ],
   "source": [
    "results = model.evaluate(x_test, y_test)\n",
    "\n",
    "for i in range(len(model.metrics_names)):\n",
    "    print(model.metrics_names[i],\" : \", results[i])\n",
    "\n"
   ]
  },
  {
   "cell_type": "code",
   "execution_count": null,
   "metadata": {},
   "outputs": [],
   "source": []
  }
 ],
 "metadata": {
  "kernelspec": {
   "display_name": "Python 3",
   "language": "python",
   "name": "python3"
  },
  "language_info": {
   "codemirror_mode": {
    "name": "ipython",
    "version": 3
   },
   "file_extension": ".py",
   "mimetype": "text/x-python",
   "name": "python",
   "nbconvert_exporter": "python",
   "pygments_lexer": "ipython3",
   "version": "3.7.3"
  }
 },
 "nbformat": 4,
 "nbformat_minor": 2
}
