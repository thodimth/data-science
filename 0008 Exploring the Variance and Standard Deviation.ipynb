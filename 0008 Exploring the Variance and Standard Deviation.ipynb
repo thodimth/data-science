{
 "cells": [
  {
   "cell_type": "code",
   "execution_count": 4,
   "metadata": {},
   "outputs": [
    {
     "data": {
      "text/plain": [
       "'0.24.2'"
      ]
     },
     "execution_count": 4,
     "metadata": {},
     "output_type": "execute_result"
    }
   ],
   "source": [
    "%matplotlib inline\n",
    "import matplotlib.pyplot as plt\n",
    "import numpy as np\n",
    "import pandas as pd\n",
    "import math\n",
    "\n",
    "# turn of data table rendering\n",
    "pd.set_option('display.notebook_repr_html', False)\n",
    "plt.style.use('ggplot')\n",
    "pd.__version__"
   ]
  },
  {
   "cell_type": "markdown",
   "metadata": {},
   "source": [
    "## Data\n",
    "The data is a set of ten salaries, as used in the Udacity course 'Intro to Descriptive Statistics' lesson 4 on measures of variability."
   ]
  },
  {
   "cell_type": "code",
   "execution_count": 43,
   "metadata": {},
   "outputs": [
    {
     "data": {
      "text/plain": [
       "   salaries\n",
       "0     33219\n",
       "1     36254\n",
       "2     38801\n",
       "3     46335\n",
       "4     46840\n",
       "5     47596\n",
       "6     55130\n",
       "7     56863\n",
       "8     78070\n",
       "9     88830"
      ]
     },
     "execution_count": 43,
     "metadata": {},
     "output_type": "execute_result"
    }
   ],
   "source": [
    "data = pd.DataFrame({'salaries': \n",
    "                     [33219, 36254, 38801, 46335, 46840, \n",
    "                      47596, 55130, 56863, 78070, 88830]})\n",
    "data"
   ]
  },
  {
   "cell_type": "code",
   "execution_count": 44,
   "metadata": {},
   "outputs": [
    {
     "data": {
      "text/plain": [
       "<matplotlib.axes._subplots.AxesSubplot at 0x21dc4320940>"
      ]
     },
     "execution_count": 44,
     "metadata": {},
     "output_type": "execute_result"
    },
    {
     "data": {
      "image/png": "[encoded data removed]",
      "text/plain": [
       "<Figure size 432x288 with 1 Axes>"
      ]
     },
     "metadata": {},
     "output_type": "display_data"
    }
   ],
   "source": [
    "data.plot(kind='bar', color='#00A99D', alpha=.5)"
   ]
  },
  {
   "cell_type": "code",
   "execution_count": 10,
   "metadata": {},
   "outputs": [],
   "source": [
    "p=[1,2,3,4,5,6,7,8,9,10]"
   ]
  },
  {
   "cell_type": "code",
   "execution_count": 12,
   "metadata": {},
   "outputs": [],
   "source": [
    "mean=5.5\n"
   ]
  },
  {
   "cell_type": "code",
   "execution_count": 11,
   "metadata": {},
   "outputs": [],
   "source": [
    "import numpy as np"
   ]
  },
  {
   "cell_type": "code",
   "execution_count": 14,
   "metadata": {},
   "outputs": [
    {
     "name": "stdout",
     "output_type": "stream",
     "text": [
      "variance : 8.25\n"
     ]
    }
   ],
   "source": [
    "ll=0\n",
    "for i in range(len(p)):\n",
    "    ll+=np.square((p[i]-mean))\n",
    "print(\"variance :\",ll/len(p))\n",
    "    "
   ]
  },
  {
   "cell_type": "code",
   "execution_count": null,
   "metadata": {},
   "outputs": [],
   "source": []
  },
  {
   "cell_type": "markdown",
   "metadata": {},
   "source": [
    "## Calculate the Variance\n",
    "The variance of a data set describes the average of the squared differences from the mean. In other words, it is a measure of how far each value in the data set is from the mean. The symbol for the variance of a population is $\\sigma^2$ (sigma squared) and for a sample we use $s^2$. We calculate the variance by summing the squared difference from the mean for each value. For the population, we divide by the number of values $n$ in the data set.\n",
    "\n",
    "$$population\\ variance:\\ \\sigma^2=\\frac{1}{n}\\sum_{i=0}^n(x_i-\\mu)^2$$\n",
    "\n",
    "For the sample we divide the summed up values by the degrees of freedom $n-1$ (also called Bessel's correction). We use $\\bar{x}$ (x bar) to symbolize our sample mean.\n",
    "\n",
    "$$sample\\ variance:\\ s^2=\\frac{1}{n-1}\\sum_{i=0}^n(x_i-\\bar{x})^2$$"
   ]
  },
  {
   "cell_type": "code",
   "execution_count": 16,
   "metadata": {},
   "outputs": [
    {
     "data": {
      "text/plain": [
       "0    33219\n",
       "1    36254\n",
       "2    38801\n",
       "3    46335\n",
       "4    46840\n",
       "5    47596\n",
       "6    55130\n",
       "7    56863\n",
       "8    78070\n",
       "9    88830\n",
       "Name: salaries, dtype: int64"
      ]
     },
     "execution_count": 16,
     "metadata": {},
     "output_type": "execute_result"
    }
   ],
   "source": [
    "data.salaries"
   ]
  },
  {
   "cell_type": "code",
   "execution_count": 45,
   "metadata": {},
   "outputs": [
    {
     "data": {
      "text/plain": [
       "291622740.36"
      ]
     },
     "execution_count": 45,
     "metadata": {},
     "output_type": "execute_result"
    }
   ],
   "source": [
    "# To calculate the population variance\n",
    "n = len(data.salaries)\n",
    "\n",
    "# first calculate the mean\n",
    "mean = data.salaries.mean()\n",
    "\n",
    "# Sum up the squared differences from the mean\n",
    "squared_deviations = 0\n",
    "for v in data.salaries:\n",
    "    squared_deviations += (v - mean) ** 2\n",
    "\n",
    "population_variance = squared_deviations / n\n",
    "population_variance"
   ]
  },
  {
   "cell_type": "code",
   "execution_count": 46,
   "metadata": {},
   "outputs": [
    {
     "data": {
      "text/plain": [
       "324025267.0666667"
      ]
     },
     "execution_count": 46,
     "metadata": {},
     "output_type": "execute_result"
    }
   ],
   "source": [
    "# To calculate the variance if we only have a sample\n",
    "# First calculate the degrees of freedom (apply Bessel's correction)\n",
    "dof = n - 1\n",
    "sample_variance = squared_deviations / dof\n",
    "sample_variance"
   ]
  },
  {
   "cell_type": "code",
   "execution_count": 23,
   "metadata": {},
   "outputs": [
    {
     "data": {
      "text/plain": [
       "291622740.36"
      ]
     },
     "execution_count": 23,
     "metadata": {},
     "output_type": "execute_result"
    }
   ],
   "source": [
    "data.salaries.var(ddof=0)"
   ]
  },
  {
   "cell_type": "code",
   "execution_count": 24,
   "metadata": {},
   "outputs": [
    {
     "data": {
      "text/plain": [
       "0    33219\n",
       "1    36254\n",
       "2    38801\n",
       "3    46335\n",
       "4    46840\n",
       "5    47596\n",
       "6    55130\n",
       "7    56863\n",
       "8    78070\n",
       "9    88830\n",
       "Name: salaries, dtype: int64"
      ]
     },
     "execution_count": 24,
     "metadata": {},
     "output_type": "execute_result"
    }
   ],
   "source": [
    "data.salaries"
   ]
  },
  {
   "cell_type": "code",
   "execution_count": 6,
   "metadata": {},
   "outputs": [
    {
     "data": {
      "text/plain": [
       "(291622740.35999984, 324025267.06666648)"
      ]
     },
     "execution_count": 6,
     "metadata": {},
     "output_type": "execute_result"
    }
   ],
   "source": [
    "# Of course we can use pandas to let NumPy do the job for us\n",
    "# The ddof parameter stands for Delta Degrees of Freedom\n",
    "population_variance = data.salaries.var(ddof=0)\n",
    "sample_variance = data.salaries.var() # ddof=1 by default in pandas\n",
    "\n",
    "population_variance, sample_variance"
   ]
  },
  {
   "cell_type": "code",
   "execution_count": 32,
   "metadata": {},
   "outputs": [
    {
     "data": {
      "text/plain": [
       "<matplotlib.collections.PathCollection at 0x21dc39e3dd8>"
      ]
     },
     "execution_count": 32,
     "metadata": {},
     "output_type": "execute_result"
    },
    {
     "data": {
      "image/png": "[encoded data removed]",
      "text/plain": [
       "<Figure size 432x288 with 1 Axes>"
      ]
     },
     "metadata": {},
     "output_type": "display_data"
    }
   ],
   "source": [
    "plt.scatter(range(len(data)),data)"
   ]
  },
  {
   "cell_type": "code",
   "execution_count": 31,
   "metadata": {},
   "outputs": [
    {
     "name": "stdout",
     "output_type": "stream",
     "text": [
      "Identified outliers: 4\n",
      "Non-outlier observations: 996\n"
     ]
    }
   ],
   "source": [
    "# identify outliers with standard deviation\n",
    "from numpy.random import seed\n",
    "from numpy.random import randn\n",
    "from numpy import mean\n",
    "from numpy import std\n",
    "# seed the random number generator\n",
    "seed(1)\n",
    "# generate univariate observations\n",
    "data = 5 * randn(1000) + 50\n",
    "# calculate summary statistics\n",
    "data_mean, data_std = mean(data), std(data)\n"
   ]
  },
  {
   "cell_type": "code",
   "execution_count": 34,
   "metadata": {},
   "outputs": [
    {
     "data": {
      "text/plain": [
       "(50.194062380798016, 4.9050206696610585)"
      ]
     },
     "execution_count": 34,
     "metadata": {},
     "output_type": "execute_result"
    }
   ],
   "source": [
    "data_mean,data_std"
   ]
  },
  {
   "cell_type": "code",
   "execution_count": 37,
   "metadata": {},
   "outputs": [
    {
     "data": {
      "text/plain": [
       "64.9091243897812"
      ]
     },
     "execution_count": 37,
     "metadata": {},
     "output_type": "execute_result"
    }
   ],
   "source": [
    "upper"
   ]
  },
  {
   "cell_type": "code",
   "execution_count": 38,
   "metadata": {},
   "outputs": [
    {
     "name": "stdout",
     "output_type": "stream",
     "text": [
      "Identified outliers: 4\n",
      "Non-outlier observations: 996\n"
     ]
    }
   ],
   "source": [
    "# identify outliers\n",
    "cut_off = data_std * 3\n",
    "lower, upper = data_mean - cut_off, data_mean + cut_off\n",
    "# identify outliers\n",
    "outliers = [x for x in data if x < lower or x > upper]\n",
    "print('Identified outliers: %d' % len(outliers))\n",
    "# remove outliers\n",
    "outliers_removed = [x for x in data if x >= lower and x <= upper]\n",
    "print('Non-outlier observations: %d' % len(outliers_removed))"
   ]
  },
  {
   "cell_type": "code",
   "execution_count": 39,
   "metadata": {},
   "outputs": [
    {
     "data": {
      "text/plain": [
       "[65.15428556186015, 69.79301352018982, 66.60539378085183, 34.73117809786848]"
      ]
     },
     "execution_count": 39,
     "metadata": {},
     "output_type": "execute_result"
    }
   ],
   "source": [
    "outliers"
   ]
  },
  {
   "cell_type": "code",
   "execution_count": 7,
   "metadata": {},
   "outputs": [
    {
     "data": {
      "text/plain": [
       "(291622740.35999984, 324025267.06666648)"
      ]
     },
     "execution_count": 7,
     "metadata": {},
     "output_type": "execute_result"
    }
   ],
   "source": [
    "# Or call the NumPy var function ourselves\n",
    "population_variance = np.var(data.salaries) # ddof=0 by default in NumPy\n",
    "sample_variance = np.var(data.salaries, ddof=1)\n",
    "\n",
    "population_variance, sample_variance"
   ]
  },
  {
   "cell_type": "markdown",
   "metadata": {},
   "source": [
    "## Calculate the Standard Deviation\n",
    "The standard deviation is a widely used normalized measure of spread of a data set. Unlike the variance, the standard deviation is using the same scale as our values; dollars in this case. In a normal distribution, about 95% of the values are within two standard deviations of the mean. We use the Greek letter sigma $\\sigma$ to symbolize the population standard deviation. \n",
    "\n",
    "$$population\\ standard\\ deviation:\\ \\sigma=\\sqrt{\\frac{1}{n}\\sum_{i=0}^n(x_i-\\mu)^2}\\ \\ =\\ \\ \\sqrt{\\sigma^2}$$\n",
    "\n",
    "We use the lowercase letter $s$ if we indicate the sample standard deviation.\n",
    "\n",
    "$$sample\\ standard\\ deviation:\\ s=\\sqrt{\\frac{1}{n-1}\\sum_{i=0}^n(x_i-\\bar{x})^2}\\ \\ =\\ \\ \\sqrt{s^2}$$"
   ]
  },
  {
   "cell_type": "code",
   "execution_count": 47,
   "metadata": {},
   "outputs": [
    {
     "data": {
      "text/plain": [
       "17076.965197598784"
      ]
     },
     "execution_count": 47,
     "metadata": {},
     "output_type": "execute_result"
    }
   ],
   "source": [
    "# To calculate the population standard deviation\n",
    "# we first need to calculate the population variance again\n",
    "n = len(data.salaries)\n",
    "\n",
    "# first calculate the mean\n",
    "mean = data.salaries.mean()\n",
    "\n",
    "# Sum up the squared differences from the mean\n",
    "squared_deviations = 0\n",
    "for v in data.salaries:\n",
    "    squared_deviations += (v - mean) ** 2\n",
    "\n",
    "population_variance = squared_deviations / n\n",
    "\n",
    "# Square the variance\n",
    "population_standard_deviation = math.sqrt(population_variance)\n",
    "population_standard_deviation"
   ]
  },
  {
   "cell_type": "code",
   "execution_count": 48,
   "metadata": {},
   "outputs": [
    {
     "data": {
      "text/plain": [
       "18000.70184927984"
      ]
     },
     "execution_count": 48,
     "metadata": {},
     "output_type": "execute_result"
    }
   ],
   "source": [
    "# To calculate the sample standard deviation\n",
    "# First calculate the degrees of freedom (apply Bessel's correction)\n",
    "dof = n - 1\n",
    "sample_variance = squared_deviations / dof\n",
    "\n",
    "# Square the variance\n",
    "sample_standard_deviation = math.sqrt(sample_variance)\n",
    "sample_standard_deviation"
   ]
  },
  {
   "cell_type": "code",
   "execution_count": 10,
   "metadata": {},
   "outputs": [
    {
     "data": {
      "text/plain": [
       "(17076.965197598776, 18000.701849279834)"
      ]
     },
     "execution_count": 10,
     "metadata": {},
     "output_type": "execute_result"
    }
   ],
   "source": [
    "# Now let's use pandas to let NumPy do the job for us\n",
    "population_standard_deviation = data.salaries.std(ddof=0)\n",
    "sample_standard_deviation = data.salaries.std()\n",
    "\n",
    "population_standard_deviation, sample_standard_deviation"
   ]
  },
  {
   "cell_type": "code",
   "execution_count": 52,
   "metadata": {},
   "outputs": [
    {
     "data": {
      "text/plain": [
       "(17076.965197598784, 18000.70184927984)"
      ]
     },
     "execution_count": 52,
     "metadata": {},
     "output_type": "execute_result"
    }
   ],
   "source": [
    "# Or call the NumPy std function ourselves\n",
    "population_standard_deviation = np.std(data.salaries)\n",
    "sample_standard_deviation = np.std(data.salaries, ddof=1)\n",
    "\n",
    "population_standard_deviation, sample_standard_deviation"
   ]
  },
  {
   "cell_type": "code",
   "execution_count": null,
   "metadata": {},
   "outputs": [],
   "source": []
  }
 ],
 "metadata": {
  "kernelspec": {
   "display_name": "Python 3",
   "language": "python",
   "name": "python3"
  },
  "language_info": {
   "codemirror_mode": {
    "name": "ipython",
    "version": 3
   },
   "file_extension": ".py",
   "mimetype": "text/x-python",
   "name": "python",
   "nbconvert_exporter": "python",
   "pygments_lexer": "ipython3",
   "version": "3.7.3"
  }
 },
 "nbformat": 4,
 "nbformat_minor": 1
}
